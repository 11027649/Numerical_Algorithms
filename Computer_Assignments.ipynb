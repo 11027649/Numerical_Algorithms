{
 "cells": [
  {
   "cell_type": "code",
   "execution_count": 34,
   "metadata": {},
   "outputs": [],
   "source": [
    "import matplotlib.pyplot as plt\n",
    "import numpy as np\n",
    "\n",
    "import scipy as sp\n",
    "from scipy import linalg as la\n",
    "\n",
    "from sympy import *"
   ]
  },
  {
   "cell_type": "markdown",
   "metadata": {},
   "source": [
    "# Chapter 1\n",
    "4,7"
   ]
  },
  {
   "cell_type": "code",
   "execution_count": null,
   "metadata": {},
   "outputs": [],
   "source": []
  },
  {
   "cell_type": "markdown",
   "metadata": {},
   "source": [
    "# Chapter 2\n",
    "2,6"
   ]
  },
  {
   "cell_type": "code",
   "execution_count": null,
   "metadata": {},
   "outputs": [],
   "source": []
  },
  {
   "cell_type": "markdown",
   "metadata": {},
   "source": [
    "# Chapter 3\n",
    "*1. Fit a polynomial of degree n by least squares to the following data.*\n",
    "\n",
    "$$\n",
    "\\begin{align*}\n",
    "x &= 1.0\\\\\n",
    "x + y &= 2.7\\\\\n",
    "x + 2y &= 5.8\\\\\n",
    "x + 3y & = 6.6 \\\\\n",
    "x + 4y &= 7.5 \\\\\n",
    "x + 5y &= 0.0\n",
    "\\end{align*}\n",
    "$$\n",
    "\n",
    "For n = 0, 1, ..., 5, a plot has been made with the original data points along with each resulting polynomial curve. \n",
    "\n",
    "Which polynomial would you say captures the general trend of the data better? "
   ]
  },
  {
   "cell_type": "code",
   "execution_count": 42,
   "metadata": {},
   "outputs": [
    {
     "name": "stdout",
     "output_type": "stream",
     "text": [
      "Matrix([[1, 0], [2, 1], [0, 2], [1, 3], [1, 4], [1, 5]])\n",
      "Matrix([[1, 2, 0, 1, 1, 1], [0, 1, 2, 3, 4, 5]])\n",
      "[[8 14]\n",
      " [14 55]]\n",
      "[30.4000000000000 113.600000000000]\n",
      "[1833.60000000000 6673.60000000000]\n"
     ]
    },
    {
     "data": {
      "text/plain": [
       "<matplotlib.collections.PathCollection at 0x24e3562e6d8>"
      ]
     },
     "execution_count": 42,
     "metadata": {},
     "output_type": "execute_result"
    },
    {
     "data": {
      "image/png": "[encoded data removed]",
      "text/plain": [
       "<Figure size 432x288 with 1 Axes>"
      ]
     },
     "metadata": {
      "needs_background": "light"
     },
     "output_type": "display_data"
    }
   ],
   "source": [
    "t = [0.0, 1.0, 2.0, 3.0, 4.0, 5.0]\n",
    "y = np.array([1.0, 2.7, 5.8, 6.6, 7.5, 9.9])\n",
    "\n",
    "A = Matrix([[1, 0], \n",
    "            [2, 1],\n",
    "            [0, 2],\n",
    "            [1, 3],\n",
    "            [1, 4],\n",
    "            [1, 5]])\n",
    "\n",
    "At = A.transpose()\n",
    "\n",
    "print(A)\n",
    "print(At)\n",
    "\n",
    "At_A = np.dot(At, A)\n",
    "\n",
    "At_y = np.dot(At, y)\n",
    "print(At_A)\n",
    "\n",
    "print(At_y)\n",
    "\n",
    "# inv_At_A = sp.linalg.inv(At_A)\n",
    "\n",
    "x = np.dot(At_A, At_y)\n",
    "print(x)\n",
    "plt.scatter(t,y)\n"
   ]
  },
  {
   "cell_type": "markdown",
   "metadata": {},
   "source": [
    "\\3. For a series of matrices A of order n, record the execution times for a library routine to compute the LU factorization of A. Using a linear least squares routine, or one of you own design, fit a cubic polynomial to the execution times as a function of **n** To obtain reliable results, a fairly wide range of values for n is used.\n",
    "\n",
    "n = 100, +100, 1500"
   ]
  },
  {
   "cell_type": "markdown",
   "metadata": {},
   "source": [
    "\\5. A planet follows an elliptical orbit, which can be represented in a Cartesian (x,y) coordinate system by the equation\n",
    "\n",
    "$$\n",
    "\\begin{align*}\n",
    "ay^2 + bxy + cx + dy + e = x^2\\\\\n",
    "\\end{align*}\n",
    "$$\n",
    "\n",
    "a) Use a library routine, or one of your own design, for linear least squares to determine the orbital parameters a, b, c, d, e, given the following observations of the planet’s position:\n",
    "\n",
    "In addition to printing the values for the orbital parameters, plot the resulting orbit and the given data points in the (x,y) plane.\n",
    "\n",
    "b) This least squares problem is nearly rankdeficient. To see what effect this has on the solution, perturb the input data slightly by adding to each coordinate of each data point a random number uniformly distributed on the interval [—0.005,0.005] (see Section 13.5) and solve the least squares problem with the perturbed data. Compare the new values for the parameters with those previously computed. What effect does this difference have on the plot of the orbit? Can you explain this behavior? "
   ]
  },
  {
   "cell_type": "markdown",
   "metadata": {},
   "source": [
    "\\10. The covariance matrix for the m x n least squares problem $Ax = b$ is given by $\\sigma^2(A^TA)^{-1}$, where $\\sigma^2 = ||b - Ax||_{2}^{2}/(m-n)$ at the least squares solution method. The entries of this matrix contain important information about the goodness of the fit and any cross-correlations among the fitted parameters. The covariance matrix is an exception to the general rule that inverses of matrices should never be computed explicitly. If an orthogonalization method is used to solve the least squares problem, then the cross-product matrix $A^TA$ is never formed, so we need an alternative method for computing the covariance matrix.\n",
    "\n",
    "a) Show that $(A^TA)^{-1} = (R^TR)^{-1}$, where R is the upper triangular factor obtained by QR factorization of A.\n",
    "\n",
    "b) Based on this fact, implement a routine for computing the covariance matrix using only the already computed R. (For purposes of this exercise, you may ignore the scalar factor $\\sigma^2$.) Test your routine on a few example matrices to confirm that it gives the same result as computing $(A^TA)^{-1}$.*"
   ]
  }
 ],
 "metadata": {
  "kernelspec": {
   "display_name": "Python 3",
   "language": "python",
   "name": "python3"
  },
  "language_info": {
   "codemirror_mode": {
    "name": "ipython",
    "version": 3
   },
   "file_extension": ".py",
   "mimetype": "text/x-python",
   "name": "python",
   "nbconvert_exporter": "python",
   "pygments_lexer": "ipython3",
   "version": "3.7.0"
  }
 },
 "nbformat": 4,
 "nbformat_minor": 2
}
