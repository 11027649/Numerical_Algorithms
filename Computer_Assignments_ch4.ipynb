{
 "cells": [
  {
   "cell_type": "code",
   "execution_count": 24,
   "metadata": {},
   "outputs": [
    {
     "name": "stdout",
     "output_type": "stream",
     "text": [
      "[[2. 4. 1.]]\n",
      "ratio: [3.5]\n",
      "[[18. 36. 31.]]\n",
      "ratio: [3.5]\n",
      "[[206. 412. 301.]]\n",
      "ratio: [3.5]\n",
      "[[2250. 4500. 3391.]]\n",
      "ratio: [3.5]\n",
      "[[24782. 49564. 37141.]]\n",
      "ratio: [3.5]\n",
      "[[272538. 545076. 408871.]]\n",
      "ratio: [3.5]\n",
      "[[2998046. 5996092. 4496941.]]\n",
      "ratio: [3.5]\n",
      "[[32978250. 65956500. 49467631.]]\n",
      "ratio: [3.5]\n",
      "[[3.62761262e+08 7.25522524e+08 5.44141381e+08]]\n",
      "ratio: [3.5]\n"
     ]
    }
   ],
   "source": [
    "import numpy as np\n",
    "\n",
    "A = np.array([[2,3,2], [10, 3,4],[3,6,1]])\n",
    "x = np.zeros([A.shape[0],1])\n",
    "x[-1] = 1\n",
    "\n",
    "np.linalg.eig(A)\n",
    "\n",
    "# A = np.array([[3,1], [1, 3]])\n",
    "# x = np.zeros([A.shape[0],1])\n",
    "# x[-1] = 1\n",
    "\n",
    "ratio = 0\n",
    "\n",
    "for k in range(1, 10):\n",
    "    \n",
    "    # generate next vector\n",
    "    x = A.dot(x)\n",
    "    print(x.T)\n",
    "    ratio = 3 + x[0]/x[1]\n",
    "    print('ratio:', ratio)\n"
   ]
  },
  {
   "cell_type": "code",
   "execution_count": 25,
   "metadata": {},
   "outputs": [
    {
     "data": {
      "text/plain": [
       "(array([7.28799214, 2.13307448, 0.57893339]),\n",
       " array([[ 0.86643225,  0.49742503, -0.0431682 ],\n",
       "        [ 0.45305757, -0.8195891 , -0.35073145],\n",
       "        [ 0.20984279, -0.28432735,  0.9354806 ]]))"
      ]
     },
     "execution_count": 25,
     "metadata": {},
     "output_type": "execute_result"
    }
   ],
   "source": [
    "A = np.array([[6,2,1], [2,3,1],[1,1,1]])\n",
    "x = np.zeros([A.shape[0],1])\n",
    "x[-1] = 1\n",
    "\n",
    "np.linalg.eig(A)"
   ]
  }
 ],
 "metadata": {
  "kernelspec": {
   "display_name": "Python 3",
   "language": "python",
   "name": "python3"
  },
  "language_info": {
   "codemirror_mode": {
    "name": "ipython",
    "version": 3
   },
   "file_extension": ".py",
   "mimetype": "text/x-python",
   "name": "python",
   "nbconvert_exporter": "python",
   "pygments_lexer": "ipython3",
   "version": "3.7.0"
  }
 },
 "nbformat": 4,
 "nbformat_minor": 2
}
