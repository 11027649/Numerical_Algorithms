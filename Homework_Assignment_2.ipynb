{
 "cells": [
  {
   "cell_type": "markdown",
   "metadata": {},
   "source": [
    "Please **submit this Jupyter notebook through Canvas** no later than **Monday November 12, 12:59**, before the start of the lecture.\n",
    "\n",
    "Homework is in **groups of two**, and you are expected to hand in original work. Work that is copied from another group will not be accepted."
   ]
  },
  {
   "cell_type": "markdown",
   "metadata": {},
   "source": [
    "# Exercise 0\n",
    "Write down the names + student ID of the people in your group."
   ]
  },
  {
   "cell_type": "markdown",
   "metadata": {},
   "source": [
    "**Jordan Earle** (12297127)\n",
    "\n",
    "**Natasja Wezel** (11027649)"
   ]
  },
  {
   "cell_type": "markdown",
   "metadata": {},
   "source": [
    "-----\n",
    "# Exercise 1"
   ]
  },
  {
   "cell_type": "markdown",
   "metadata": {},
   "source": [
    "## (a)\n",
    "Let $A$ be the matrix $\\begin{bmatrix} 1 & -1 & \\alpha \\\\ 2 & 2 & 1 \\\\ 0 & \\alpha & -3/2 \\end{bmatrix}$. For which values of $\\alpha$ is $A$ singular?"
   ]
  },
  {
   "cell_type": "code",
   "execution_count": 11,
   "metadata": {},
   "outputs": [
    {
     "name": "stdout",
     "output_type": "stream",
     "text": [
      "Matrix([[1, -1, x], [2, 2, 1], [0, x, -1.50000000000000]])\n",
      "2*x**2 - x - 6.0\n",
      "The values where alpha is zero are: -1.50000000000000 2.00000000000000\n"
     ]
    }
   ],
   "source": [
    "import numpy as np\n",
    "import scipy as sp\n",
    "from scipy import linalg as la\n",
    "from sympy import *\n",
    "from sympy import Matrix\n",
    "x = Symbol('x')\n",
    "matA = Matrix([[1, -1, x], [2, 2, 1], [0, x, -3/2]])\n",
    "\n",
    "print(matA)\n",
    "\n",
    "print(matA.det())\n",
    "equation = matA.det()\n",
    "solutions = solve(equation)\n",
    "\n",
    "print(\"The values where alpha is zero are:\", solutions[0],solutions[1])"
   ]
  },
  {
   "cell_type": "markdown",
   "metadata": {},
   "source": [
    "## (b)\n",
    "Consider the following linear system of equations:\n",
    "$$\n",
    "\\begin{align*}\n",
    "2x + y + z & = 3 \\\\\n",
    "2x - y + 3z &= 5 \\\\\n",
    "-2x + \\alpha y + 3z &= 1.\n",
    "\\end{align*}\n",
    "$$\n",
    "For what values of $\\alpha$ does this system have an infinite number of solutions?"
   ]
  },
  {
   "cell_type": "code",
   "execution_count": 3,
   "metadata": {},
   "outputs": [
    {
     "name": "stdout",
     "output_type": "stream",
     "text": [
      "-4*a - 28\n",
      "The values where alpha causes the system to be singular and therefore infinitly many solutions are:  -7\n"
     ]
    }
   ],
   "source": [
    "a = Symbol('a')\n",
    "\n",
    "matB = Matrix([[2, 1, 1], [2, -2, 3], [-2, a, 3]])\n",
    "\n",
    "print(matB.det())\n",
    "equation = matB.det()\n",
    "solutions = solve(equation)\n",
    "\n",
    "print(\"The values where alpha causes the system to be singular and therefore infinitly many solutions are: \", solutions[0])"
   ]
  },
  {
   "cell_type": "markdown",
   "metadata": {},
   "source": [
    "## (c)\n",
    "Denote the columns of an $n \\times n$ matrix $A$ as $A_k$ for $k=1,\\ldots,n$. We define the function $||A||_* = \\max_k ||A_k||_2$. Show that $||A||_*$ is a norm, in that it satisfies the first three properties of a matrix norm (cf. §2.3.2)."
   ]
  },
  {
   "cell_type": "markdown",
   "metadata": {},
   "source": []
  },
  {
   "cell_type": "markdown",
   "metadata": {},
   "source": [
    "----\n",
    "# Exercise 2\n",
    "For solving linear systems such as $Ax = b$, it is unnecessary (and often unstable) to compute the inverse $A^{-1}$. Nonetheless, there can be situations where it is useful to compute $A^{-1}$ explicitly. One way to do so is by using the LU-decomposition of $A$."
   ]
  },
  {
   "cell_type": "markdown",
   "metadata": {},
   "source": [
    "## (a)\n",
    "Write an algorithm to compute $A^{-1}$ for a non-singular matrix $A$ using its LU-decomposition. You can use `scipy.linalg.lu` (which returns an LU-decomposition with _partial pivoting_, i.e., with a permutation matrix $P$) and the other `scipy.linalg.lu_*` functions, but not `scipy.linalg.inv` (or other methods for computing matrix inverses directly)."
   ]
  },
  {
   "cell_type": "code",
   "execution_count": 38,
   "metadata": {},
   "outputs": [
    {
     "name": "stdout",
     "output_type": "stream",
     "text": [
      "[[ 0.8  0.1  0.6]\n",
      " [-0.6  0.3 -0.2]\n",
      " [-0.4  0.2 -0.8]]\n",
      "[[ 1.   0.   0. ]\n",
      " [ 0.5  1.   0. ]\n",
      " [ 0.  -0.5  1. ]]\n",
      "[[ 2.    2.    1.  ]\n",
      " [ 0.   -2.    0.5 ]\n",
      " [ 0.    0.   -1.25]]\n",
      "[[-0.5   1.    0.  ]\n",
      " [ 1.    0.    0.  ]\n",
      " [-0.25  0.5   1.  ]]\n"
     ]
    }
   ],
   "source": [
    "def solveInverse(matA):\n",
    "    \n",
    "    shapeA = matA.shape\n",
    "    validity = True\n",
    "    p, l, u = sp.linalg.lu(newMatA)\n",
    "    \n",
    "    for i in range(0,shapeA[0]):\n",
    "        if l[i][i] == 0 or u[i][i] == 0:\n",
    "            validity = False\n",
    "            \n",
    "    if validity == False:\n",
    "        print(\"This does not work dude!\")\n",
    "        break\n",
    "        \n",
    "    pt = p.transpose()\n",
    "    b = forwardSublower(shape, lw, pt)\n",
    "\n",
    "def forwardSublower(s,lw,pt):\n",
    "    tmpMat = np.empty(shape = s)\n",
    "    for i in range(0, s[0]):\n",
    "        tmpCell = 0\n",
    "        if lw[i][i] == 0:\n",
    "            print(\"This is an invalid matrix.  Breaking this beast.\")\n",
    "            break\n",
    "            for j in range(0, s[1]):\n",
    "                tmpCell = tmpCell + (pt[i][j]/lw[i][j])\n",
    "                matrixInv[i][j] = tmpCell\n",
    "    return tmpMat\n",
    "\n",
    "def backwardSubsolver(s, up, b):\n",
    "\n",
    "    tmpMat = np.empty(shape = s)\n",
    "    for i in range(0, s[0], -1):\n",
    "        tmpCell = 0\n",
    "        if lw[i][i] == 0:\n",
    "            print(\"This is an invalid matrix.  Breaking this beast.\")\n",
    "            break\n",
    "            for j in range(0, s[1]):\n",
    "                tmpCell = tmpCell + (pt[i][j]/lw[i][j])\n",
    "                matrixInv[i][j] = tmpCell\n",
    "    return tmpMat\n",
    "\n",
    "    \n",
    "newMatA = np.array([[1, -1, 1], [2,2,1], [0, 1, -3/2]])\n",
    "\n",
    "print(sp.linalg.inv(newMatA))\n",
    "#print(p)\n",
    "print(l)\n",
    "print(u)\n",
    "\n",
    "pt = p.transpose()\n",
    "\n",
    "print(pt.dot(sp.linalg.inv(l)))\n",
    "\n"
   ]
  },
  {
   "cell_type": "markdown",
   "metadata": {},
   "source": [
    "## (b)\n",
    "What is the computational complexity of your algorithm, given that the input matrix has size $n \\times n$?"
   ]
  },
  {
   "cell_type": "markdown",
   "metadata": {},
   "source": []
  },
  {
   "cell_type": "markdown",
   "metadata": {},
   "source": [
    "## (c)\n",
    "Apply your Python code to compute the inverse of the Hilbert matrix $H_n$ for $n=1, \\ldots, 12$ (see https://en.wikipedia.org/wiki/Hilbert_matrix) -- you can use `scipy.linalg.hilbert`. This matrix is _very_ ill-conditioned, so computing its inverse is very hard for large $n$.\n",
    "\n",
    "Compare the inverse with the \"true\" inverse given by `scipy.linalg.invhilbert`. Output a (`plt.semilogy`) graph showing how the $\\infty$-norm of their difference progresses for $n$."
   ]
  },
  {
   "cell_type": "code",
   "execution_count": null,
   "metadata": {},
   "outputs": [],
   "source": []
  },
  {
   "cell_type": "markdown",
   "metadata": {},
   "source": [
    "## (d)\n",
    "It is known that the $2$-condition number $cond_2(H_n)$ of the Hilbert matrix grows like $\\mathcal O\\left(\\frac{(1+\\sqrt{2})^{4n}}{\\sqrt{n}}\\right)$. Does the $\\infty$-condition number (defined in Example 2.5) of $H_n$ grow in a similar way?\n",
    "For the matrix inverse, try both your own matrix inversion routine, and `scipy.linalg.invhilbert`. Output a (`plt.semilogy`) graph showing your results."
   ]
  },
  {
   "cell_type": "code",
   "execution_count": null,
   "metadata": {},
   "outputs": [],
   "source": []
  }
 ],
 "metadata": {
  "kernelspec": {
   "display_name": "Python 3",
   "language": "python",
   "name": "python3"
  },
  "language_info": {
   "codemirror_mode": {
    "name": "ipython",
    "version": 3
   },
   "file_extension": ".py",
   "mimetype": "text/x-python",
   "name": "python",
   "nbconvert_exporter": "python",
   "pygments_lexer": "ipython3",
   "version": "3.6.6"
  }
 },
 "nbformat": 4,
 "nbformat_minor": 2
}
