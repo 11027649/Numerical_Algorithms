{
 "cells": [
  {
   "cell_type": "markdown",
   "metadata": {},
   "source": [
    "Please **submit this Jupyter notebook through Canvas** no later than **Monday November 19, 12:59**, before the start of the lecture.\n",
    "\n",
    "Homework is in **groups of two**, and you are expected to hand in original work. Work that is copied from another group will not be accepted."
   ]
  },
  {
   "cell_type": "markdown",
   "metadata": {},
   "source": [
    "# Exercise 0\n",
    "Write down the names + student ID of the people in your group."
   ]
  },
  {
   "cell_type": "markdown",
   "metadata": {},
   "source": [
    "**Jordan Earle** (12297127)\n",
    "\n",
    "**Natasja Wezel** (11027649)"
   ]
  },
  {
   "cell_type": "markdown",
   "metadata": {},
   "source": [
    "-------------\n",
    "# Exercise 1\n",
    "# (a)\n",
    "Let $Q$ be a real, square orthogonal matrix. Show that all eigenvalues of $Q$ satisfy $|\\lambda |=1$."
   ]
  },
  {
   "cell_type": "markdown",
   "metadata": {},
   "source": [
    "If $\\lambda$ is an eigenvalue of Q with corresponding eigenvector $x$, $Qx = \\lambda x$. This would mean that $||Qx||_2 = ||\\lambda x||_2$, and since an orthogonal matrix preserves the 2-norm, we have $||x||_2 = \\lambda \\cdot ||x||_2$, which would mean that $|\\lambda| = 1$."
   ]
  },
  {
   "cell_type": "markdown",
   "metadata": {},
   "source": [
    "\n",
    "# (b)\n",
    "A projection matrix is a matrix $P$ for which $P^2=P$. Find the eigenvalues of a projection matrix."
   ]
  },
  {
   "cell_type": "markdown",
   "metadata": {},
   "source": [
    "If $\\lambda$ is an eigenvalue of P with corresponding eigenvector $x$, $Px = \\lambda x$. This would mean that $P^2x = \\lambda Px = \\lambda^2 x$. This means that $\\lambda^2$ is an eigenvalue of $P^2$. If $P = P^2$, the eigenvalues are thus such that $\\lambda^2 = \\lambda$. The only possible values which satisfy this are 0 and 1."
   ]
  },
  {
   "cell_type": "markdown",
   "metadata": {},
   "source": [
    "-----------\n",
    "# Exercise 2\n",
    "Generate a symmetric $4 × 4$ matrix $A$ randomly, e.g. as below.\n",
    "Implement Rayleigh quotient iteration (Algorithm 4.4) to compute the largest eigenvalue and corresponding eigenvector of $A$. Use a suitable stopping criterion for your iterations (and explain why you think it is suitable). You may use `scipy.linalg.solve`.\n",
    "\n",
    "If $x$ is an approximate eigenvector for a real matrix $A$, then determining the best estimate for the corresponding eigenvalue $\\lambda$ can be considered as an $n \\times 1$ linear least squares approximate problem: $x \\lambda \\cong Ax$. The matrix has a normal equation $x^Tx\\lambda = x^TAx$ and from this we can see that the least squares solution is given by:\n",
    "\n",
    "$$\n",
    "\\lambda = \\frac{x^TAx}{x^Tx}\n",
    "$$\n",
    "\n",
    "This quantity is known as the *Rayleigh quotient* and can be used to accelerate the convergence of a method such as power iteration, since at iteration *k* "
   ]
  },
  {
   "cell_type": "code",
   "execution_count": 35,
   "metadata": {},
   "outputs": [
    {
     "name": "stdout",
     "output_type": "stream",
     "text": [
      "For the matrix: \n",
      " [[ 0.17557022  1.97204743  0.04984616 -0.0719916 ]\n",
      " [ 1.97204743  0.60641007 -0.28521595  0.80873456]\n",
      " [ 0.04984616 -0.28521595 -1.00656254 -0.88947481]\n",
      " [-0.0719916   0.80873456 -0.88947481  2.2453198 ]]\n",
      "The dominant Eigenvalue is approx:  [[3.05520217]]\n",
      "The dominant Eigenvector is approx: \n",
      " [[-0.4855583 ]\n",
      " [-0.75224989]\n",
      " [ 0.26585126]\n",
      " [-1.        ]]\n"
     ]
    }
   ],
   "source": [
    "import numpy as np\n",
    "B = np.random.randn(4,4)\n",
    "A = B+B.T\n",
    "#A = np.array([[3.,1.], [1., 3.]])\n",
    "I = np.eye(A.shape[0])\n",
    "# Need to add in a check to make sure the matrix is ok, sometimes it crashes\n",
    "#print(I)\n",
    "#print(A)\n",
    "\n",
    "x = np.random.rand(A.shape[0],1)\n",
    "\n",
    "escbreak = True\n",
    "\n",
    "prev_sigma = 0\n",
    "\n",
    "while escbreak:\n",
    "    \n",
    "    xT = x.T\n",
    "    # compute shift\n",
    "    sigma = xT.dot(A.dot(x))/(xT.dot(x))\n",
    "    left = (A - sigma*I)\n",
    "    \n",
    "    # generate next vector\n",
    "    ycur = np.linalg.solve(left, x)\n",
    "    \n",
    "    # normalize the vector\n",
    "    x = ycur/np.linalg.norm(ycur, ord = np.inf)\n",
    "\n",
    "    # check to see if the loop should break \n",
    "    if abs(prev_sigma - sigma) < 0.0001:\n",
    "        escbreak = False\n",
    "    prev_sigma = sigma\n",
    "    \n",
    "# print the matrix, eignvalue and eigenvector\n",
    "print(\"For the matrix: \\n\", A)\n",
    "print(\"The dominant Eigenvalue is approx: \", sigma)\n",
    "print(\"The dominant Eigenvector is approx: \\n\", x)"
   ]
  },
  {
   "cell_type": "markdown",
   "metadata": {},
   "source": [
    "In order to determine a stopping point, a number of methods were discussed. The first and most obvious is that if the value of sigma is not changing much (i.e. less that 0.0001).  This would indicated convergence and was the method used.  Another stopping point would be to stop the system when the determinent of $A-\\sigma I$ becomes 0 as that would indicate that it is singular and that we have found the eigenvalue.  This could be dangerous though if the system does not converge to the exact eigenvalue quickly.  One more method discussed was checking to see if $Ax = \\lambda x$ was approximatly true.  This could have been implamented but would have been more complex than a check on thee previous value so it was not implamented."
   ]
  },
  {
   "cell_type": "markdown",
   "metadata": {},
   "source": [
    "-------------\n",
    "# Exercise 3\n",
    "Let $A$ be a $n × n$ tridiagonal matrix that results (up to an overall constant scaling factor) from an\n",
    "$n$-point spatial discretization of the Laplace operator in $1$ spatial dimension. Specifically, all diagonal\n",
    "elements of $A$ have the value $-2$, all elements just below or above the diagonal have value $1$.\n",
    "\n",
    "$${\\displaystyle A = \\left( \\begin{array}{rrrrr} -2 &  1  &  0 &  0& \\ldots \\\\ 1  & -2 & 1 & 0 &\\ldots   \\\\ 0 & 1 & -2 &  1 &\\ldots \\\\ \\vdots & & & & \\ddots \\end{array} \\right) \\,}$$\n",
    "\n",
    "\n",
    "\n",
    "Take $n = 150$. Use `scipy.linalg.qr` to implement Algorithm 4.7 from the book and compute the full eigenvalue spectrum of $A$. Compare against\n",
    "the eigenvalues obtained by the built-in routine `scipy.linalg.eig(A)`. Show in a figure the (approximate)\n",
    "eigenvalues after 10, 100 and 500 QR iterations, as well as the eigenvalues obtained with `eig(A)`.\n"
   ]
  },
  {
   "cell_type": "code",
   "execution_count": 4,
   "metadata": {
    "scrolled": false
   },
   "outputs": [
    {
     "name": "stderr",
     "output_type": "stream",
     "text": [
      "/home/jordan/.local/lib/python3.6/site-packages/numpy/lib/histograms.py:769: ComplexWarning: Casting complex values to real discards the imaginary part\n",
      "  indices = f_indices.astype(np.intp)\n",
      "/home/jordan/.local/lib/python3.6/site-packages/matplotlib/transforms.py:827: ComplexWarning: Casting complex values to real discards the imaginary part\n",
      "  points = np.array(args, dtype=float).reshape(2, 2)\n",
      "/home/jordan/.local/lib/python3.6/site-packages/matplotlib/transforms.py:2010: ComplexWarning: Casting complex values to real discards the imaginary part\n",
      "  x, y = float(x), float(y)\n"
     ]
    },
    {
     "data": {
      "image/png": "[encoded data removed]",
      "text/plain": [
       "<Figure size 432x288 with 1 Axes>"
      ]
     },
     "metadata": {},
     "output_type": "display_data"
    },
    {
     "data": {
      "image/png": "[encoded data removed]",
      "text/plain": [
       "<Figure size 432x288 with 1 Axes>"
      ]
     },
     "metadata": {},
     "output_type": "display_data"
    },
    {
     "data": {
      "image/png": "[encoded data removed]",
      "text/plain": [
       "<Figure size 432x288 with 1 Axes>"
      ]
     },
     "metadata": {},
     "output_type": "display_data"
    },
    {
     "data": {
      "image/png": "[encoded data removed]",
      "text/plain": [
       "<Figure size 432x288 with 1 Axes>"
      ]
     },
     "metadata": {},
     "output_type": "display_data"
    },
    {
     "data": {
      "image/png": "[encoded data removed]",
      "text/plain": [
       "<Figure size 432x288 with 1 Axes>"
      ]
     },
     "metadata": {},
     "output_type": "display_data"
    },
    {
     "data": {
      "image/png": "[encoded data removed]",
      "text/plain": [
       "<Figure size 432x288 with 1 Axes>"
      ]
     },
     "metadata": {},
     "output_type": "display_data"
    }
   ],
   "source": [
    "from scipy.sparse import diags\n",
    "import scipy.linalg\n",
    "import scipy as sp\n",
    "import matplotlib.pyplot as plt\n",
    "\n",
    "\n",
    "n = 150\n",
    "A0 = diags([1, -2, 1], [-1, 0, 1], shape=(n, n)).toarray()\n",
    "w, v = sp.linalg.eig(A)\n",
    "\n",
    "plt.figure(0)\n",
    "plt.title(\"True Eigenvalues\")\n",
    "plt.hist(w)\n",
    "\n",
    "# Isnt this supposed to only take 150 itterations\n",
    "iters = [10,100,150,300,500]\n",
    "\n",
    "\n",
    "#Cycle through the iterations\n",
    "for i in iters:\n",
    "    #Reset the matrix A at the start of each iteration\n",
    "    plt.figure(i)\n",
    "    A = A0\n",
    "    #Iterate baby\n",
    "    for k in range(0,i):\n",
    "        Q, R = sp.linalg.qr(A)\n",
    "        A = R.dot(Q)\n",
    "    #Find the eignvals\n",
    "    calceig = []\n",
    "    for j in range(0, A.shape[0]):\n",
    "        calceig.append(A[j,j])\n",
    "    plt.hist(calceig)\n",
    "    plt.title(\"Eigenvalues with \" + str(i) + \" iterations\")\n",
    "    "
   ]
  },
  {
   "cell_type": "code",
   "execution_count": 1,
   "metadata": {},
   "outputs": [],
   "source": [
    "# we should increase the resolution"
   ]
  },
  {
   "cell_type": "code",
   "execution_count": null,
   "metadata": {},
   "outputs": [],
   "source": []
  }
 ],
 "metadata": {
  "kernelspec": {
   "display_name": "Python 3",
   "language": "python",
   "name": "python3"
  },
  "language_info": {
   "codemirror_mode": {
    "name": "ipython",
    "version": 3
   },
   "file_extension": ".py",
   "mimetype": "text/x-python",
   "name": "python",
   "nbconvert_exporter": "python",
   "pygments_lexer": "ipython3",
   "version": "3.6.6"
  }
 },
 "nbformat": 4,
 "nbformat_minor": 2
}
