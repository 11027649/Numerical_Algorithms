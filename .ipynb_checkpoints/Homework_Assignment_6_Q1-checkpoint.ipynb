{
 "cells": [
  {
   "cell_type": "markdown",
   "metadata": {},
   "source": [
    "Please **submit this Jupyter notebook through Canvas** no later than **Monday November 5 12:59**, before the start of the lecture.\n",
    "\n",
    "Homework is in **groups of two**, and you are expected to hand in original work. Work that is copied from another group will not be accepted."
   ]
  },
  {
   "cell_type": "markdown",
   "metadata": {},
   "source": [
    "# Exercise 0\n",
    "Write down the names + student ID of the people in your group."
   ]
  },
  {
   "cell_type": "markdown",
   "metadata": {},
   "source": [
    "**Jordan Earle** (12297127)\n",
    "\n",
    "**Natasja Wezel** (11027649)"
   ]
  },
  {
   "cell_type": "code",
   "execution_count": 73,
   "metadata": {},
   "outputs": [],
   "source": [
    "import matplotlib.pyplot as plt\n",
    "import numpy as np\n",
    "import math"
   ]
  },
  {
   "cell_type": "markdown",
   "metadata": {},
   "source": [
    "-----\n",
    "# Exercise 1\n",
    "Let $P_k$ be the $k$th _Legendre polynomial_ (see paragraph 7.3.4) on $[-1, 1]$.\n",
    "\n",
    "We know that $P_0(x) = 1$, $P_1(x) = x$, and that $P_k$ satisfy the recurrence relation \n",
    "\n",
    "$$k P_k(x) =x (2k-1)  P_{k-1}(x) - (k-1) P_{k-2}(x).$$\n",
    "\n",
    "We will use [_induction_](https://en.wikipedia.org/wiki/Mathematical_induction) to show that the derivatives of the Legendre polynomials satisfy\n",
    "\n",
    "$$P_k'(1) = k(k+1)/2.$$"
   ]
  },
  {
   "cell_type": "markdown",
   "metadata": {},
   "source": [
    "## (a) Base case\n",
    "Show that $P_0'(1) = 0$ and $P_1'(1) = 1$."
   ]
  },
  {
   "cell_type": "markdown",
   "metadata": {},
   "source": [
    "$$\\frac{dP_0(x)}{dx} = 1 \\frac{d}{dx} = 0$$\n",
    "$$\\frac{dP_1(x)}{dx} = x \\frac{d}{dx} = 1$$"
   ]
  },
  {
   "cell_type": "markdown",
   "metadata": {},
   "source": [
    "## (b)  Induction Step\n",
    "Let $k \\geq 2$. Use the recurrence relation to show that $P_k'(1) = k(k+1)/2$."
   ]
  },
  {
   "cell_type": "markdown",
   "metadata": {},
   "source": [
    "$$kP'_{k}(x) = (x(2k-1)P'_{k-1}(x) + (2k-1)P_{k-1}(x)) - (k-1)P'_{k-2}(x)$$"
   ]
  },
  {
   "cell_type": "markdown",
   "metadata": {},
   "source": [
    "pg 322 shows that $$P_k(1) = 1$$"
   ]
  },
  {
   "cell_type": "markdown",
   "metadata": {},
   "source": [
    "evaluation at k = n, x = 1:\n",
    "\n",
    "$$nP'_{n}(1) = (1(2n-1)P'_{n-1}(1) + (2n-1)P_{n-1}(1)) - (n-1)P'_{n-2}(1) \\to $$\n",
    "\n",
    "$$P'_{n}(1) = \\frac{(2n-1)P'_{n-1}(1) + (2n-1)P_{n-1}(1)) - (n-1)P'_{n-2}(1)}{n}$$\n",
    "\n",
    "$$P'_{n}(1) = \\frac{(2n-1)P'_{n-1}(1) + (2n-1) - (n-1)P'_{n-2}(1)}{n}$$"
   ]
  },
  {
   "cell_type": "markdown",
   "metadata": {},
   "source": [
    "Substituting in that n = 2, we find that:\n",
    "\n",
    "$$P'_{2}(1) = \\frac{(4-1)P'_{2-1}(1) + (4-1) - (2-1)P'_{2-2}(1)}{2} \\to P'_{2}(1) = \\frac{(3)P'_{1}(1) + (3) - (1)P'_{0}(1)}{2}$$"
   ]
  },
  {
   "cell_type": "markdown",
   "metadata": {},
   "source": [
    "knowing that $P_0'(1) = 0$ and $P_1'(1) = 1$:\n",
    "\n",
    "$$P'_{3}(1) \\frac{(3) + (3)}{2} = 3$$\n",
    "\n",
    "unsing the theorm above:\n",
    "\n",
    "$$P_2'(1) = 2(2+1)/2 = 3$$\n",
    "\n",
    "This shows that for 2, it holds true, so if we step forward by another 1, we would have:"
   ]
  },
  {
   "cell_type": "markdown",
   "metadata": {},
   "source": [
    "$$P'_{2+1}(1) = \\frac{(2(2+1)-1)P'_{(2+1)-1}(1) + (2(2+1)-1) - ((2+1)-1)P'_{(2+1)-2}(1)}{3}$$"
   ]
  },
  {
   "cell_type": "markdown",
   "metadata": {},
   "source": [
    "$$P'_{3}(1) = \\frac{(5)P'_{2}(1) + (5) - (2)P'_{1}(1)}{3}$$\n",
    "\n",
    "$$P'_{3}(1) = \\frac{18}{3} = 6$$\n",
    "\n",
    "and the theorm above: \n",
    "\n",
    "$$P_3'(1) = 3(3+1)/2 = 6$$"
   ]
  },
  {
   "cell_type": "markdown",
   "metadata": {},
   "source": [
    "The above shows it is true for the first 4 steps(0-3) that it hold: now assuming that:\n",
    "\n",
    "$$P'_{n-2}(1) = (n-2)(n-1)/2 = \\frac{n^2 - 3n + 2}{2}$$\n",
    "\n",
    "$$P'_{n-1}(1) = n-1(n)/2 = \\frac{n^2 - n}{2}$$\n",
    "\n",
    "$$P'_{n}(1) = \\frac{(2n-1)P'_{n-1}(1) + (2n-1) - (n-1)P'_{n-2}(1)}{n}$$\n",
    "\n",
    "and substituting into the equation\n",
    "\n",
    "$$P'_{n}(1) = \\frac{(2n-1)\\frac{n^2 - n}{2} + (2n-1) - (n-1)\\frac{n^2 - 3n + 2}{2}}{n}$$\n",
    "\n",
    "$$P'_{n}(1) = \\frac{(2n-1)\\frac{n^2 - n}{2} + (2n-1) + (1 - n)\\frac{n^2 - 3n + 2}{2}}{n} * \\frac{2}{2}$$\n",
    "\n",
    "$$P'_{n}(1) = \\frac{2n^3 - 2n^2 - n^2 + n + 4n + - 2 + 4n^2 - 5n + 2 - n^3}{2n}$$\n",
    "\n",
    "$$P'_{n}(1) = \\frac{n^3 + n^2 }{2n}$$\n",
    "\n",
    "$$P'_{n}(1) = \\frac{n^2 + n }{2} = \\frac{n(n + 1)}{2}$$"
   ]
  },
  {
   "cell_type": "markdown",
   "metadata": {},
   "source": [
    "----------------\n",
    "\n",
    "# Exercise 2\n",
    "\n",
    "A bacterial population $P$ grows according to the goemetric progression\n",
    "\n",
    "$$P_t = rP_{t-1}$$\n",
    "\n",
    "Where r is the growth rate. The following population counts $P_1 ,\\ldots, P_8$ (in billions) are observed:"
   ]
  },
  {
   "cell_type": "code",
   "execution_count": 4,
   "metadata": {},
   "outputs": [
    {
     "data": {
      "text/plain": [
       "<matplotlib.collections.PathCollection at 0x7f93471c44e0>"
      ]
     },
     "execution_count": 4,
     "metadata": {},
     "output_type": "execute_result"
    },
    {
     "data": {
      "image/png": "[encoded data removed]",
      "text/plain": [
       "<Figure size 432x288 with 1 Axes>"
      ]
     },
     "metadata": {},
     "output_type": "display_data"
    }
   ],
   "source": [
    "data = [0.19, 0.36, 0.69, 1.3, 2.5, 4.7, 8.5, 14]\n",
    "\n",
    "plt.scatter(range(1,9), data)"
   ]
  },
  {
   "cell_type": "markdown",
   "metadata": {},
   "source": [
    "# (a)\n",
    "Read chapter 6.6 on Nonlinear Least squares. Use the Gauss-Newton Method to fit the model function $f(t, x_1, x_2) = x_1\\!\\cdot x_2^t$ to the data. Find estimates for the initial population $P_0=x_1$ and the growth rate $r=x_2$.\n",
    "\n",
    "$$\n",
    "\\frac{df}{dx_1} = x_2^t\\\\\n",
    "\\frac{df}{dx_2} = x_1 t x_2^{t-1}\n",
    "$$"
   ]
  },
  {
   "cell_type": "code",
   "execution_count": 72,
   "metadata": {
    "scrolled": false
   },
   "outputs": [
    {
     "name": "stdout",
     "output_type": "stream",
     "text": [
      "Start value of x: [[0.56104422 0.0931265 ]]\n",
      "0 : End value of x: [[-5.27148646e-18 -3.99009368e+02]]\n",
      "Start value of x: [[0.36482629 0.25499934]]\n",
      "1 : End value of x: [[1.34944026e-15 1.80811478e+02]]\n",
      "Start value of x: [[0.77794122 0.30242298]]\n",
      "2 : End value of x: [[1.02059343e-16 2.61429252e+02]]\n",
      "Start value of x: [[0.67293062 0.73553181]]\n",
      "3 : End value of x: [[6.42624857e-18 3.88032638e+02]]\n",
      "Start value of x: [[0.46240872 0.98736113]]\n",
      "4 : End value of x: [[-3.89738010e-18 -4.16604486e+02]]\n",
      "Start value of x: [[0.39182046 0.12479401]]\n",
      "5 : End value of x: [[-7.26031335e-17 -2.74300224e+02]]\n",
      "Start value of x: [[0.49754242 0.9432543 ]]\n",
      "6 : End value of x: [[2.05792676e-16 2.36513977e+02]]\n",
      "Start value of x: [[0.96578851 0.67164325]]\n",
      "7 : End value of x: [[-1.90288198e-17 -3.32143542e+02]]\n",
      "Start value of x: [[0.66008532 0.95297382]]\n",
      "8 : End value of x: [[0.11540536 1.84922122]]\n",
      "Start value of x: [[0.49630343 0.46778587]]\n",
      "9 : End value of x: [[-7.04747320e-27 -7.39204691e+03]]\n",
      "Start value of x: [[0.45922934 0.66480369]]\n",
      "10 : End value of x: [[-5.76537817e-17 -2.83487686e+02]]\n",
      "Start value of x: [[0.7595363  0.32195527]]\n",
      "11 : End value of x: [[9.97512393e-18 3.64412972e+02]]\n",
      "Start value of x: [[0.40045134 0.96621431]]\n",
      "12 : End value of x: [[2.65533224e-23 2.27989604e+03]]\n",
      "Start value of x: [[0.10364815 0.15583854]]\n",
      "13 : End value of x: [[2.10003807e-27 8.78796745e+03]]\n",
      "Start value of x: [[0.37133076 0.83858914]]\n",
      "14 : End value of x: [[4.36325967e-16 2.12445305e+02]]\n",
      "Start value of x: [[0.91925989 0.89361707]]\n",
      "15 : End value of x: [[0.11540536 1.84922122]]\n",
      "Start value of x: [[0.8611706  0.21275263]]\n",
      "16 : End value of x: [[-2.10997868e-20 -8.78117060e+02]]\n",
      "Start value of x: [[0.67487746 0.95343269]]\n",
      "17"
     ]
    },
    {
     "name": "stderr",
     "output_type": "stream",
     "text": [
      "/usr/lib/python3/dist-packages/ipykernel_launcher.py:15: FutureWarning: `rcond` parameter will change to the default of machine precision times ``max(M, N)`` where M and N are the input matrix dimensions.\n",
      "To use the future default and silence this warning we advise to pass `rcond=None`, to keep using the old, explicitly pass `rcond=-1`.\n",
      "  from ipykernel import kernelapp as app\n"
     ]
    },
    {
     "name": "stdout",
     "output_type": "stream",
     "text": [
      " : End value of x: [[0.11540536 1.84922122]]\n",
      "Start value of x: [[0.11048235 0.68099432]]\n",
      "18 : End value of x: [[2.91530214e-40 6.03498974e+05]]\n",
      "Start value of x: [[0.77773626 0.70340003]]\n",
      "19 : End value of x: [[2.60722917e-17 3.17686563e+02]]\n"
     ]
    },
    {
     "data": {
      "text/plain": [
       "(0, 20)"
      ]
     },
     "execution_count": 72,
     "metadata": {},
     "output_type": "execute_result"
    },
    {
     "data": {
      "image/png": "[encoded data removed]",
      "text/plain": [
       "<Figure size 432x288 with 1 Axes>"
      ]
     },
     "metadata": {},
     "output_type": "display_data"
    }
   ],
   "source": [
    "plt.scatter(range(1,9), data)\n",
    "\n",
    "for k in range(0,20):\n",
    "    # very dependent of seed so try a couple of times for a nice convergence\n",
    "    x = np.random.rand(1,2)\n",
    "    #print(x.shape)\n",
    "    r = np.zeros((len(data),1))\n",
    "    print(\"Start value of x:\", x)\n",
    "    J = np.zeros((len(data),2))\n",
    "    for i in range(0,200):\n",
    "        for t in range(1, len(data)):\n",
    "            J[t][0] = -x[0][1]**t\n",
    "            J[t][1] = -t*x[0][0]*(x[0][1]**(t-1))\n",
    "            r[t][0] = -1*(data[t-1] - x[0][0]*(x[0][1]**(t)))\n",
    "        s = np.linalg.lstsq(J, r)[0]\n",
    "        x += s.transpose()\n",
    "    plt.plot(range(1,9), x[0][0]*x[0][1]**range(1,9), label=\"Final Values:\" + str(k))\n",
    "    print(k,\": End value of x:\", x)\n",
    "plt.legend()\n",
    "plt.ylim(0, 20)"
   ]
  },
  {
   "cell_type": "code",
   "execution_count": 71,
   "metadata": {},
   "outputs": [
    {
     "name": "stdout",
     "output_type": "stream",
     "text": [
      "(1, 2)\n",
      "Start value of x: [[0.94227125 0.99787559]]\n",
      "99 : End value of x: [[0.11540536 1.84922122]]\n"
     ]
    },
    {
     "name": "stderr",
     "output_type": "stream",
     "text": [
      "/usr/lib/python3/dist-packages/ipykernel_launcher.py:17: FutureWarning: `rcond` parameter will change to the default of machine precision times ``max(M, N)`` where M and N are the input matrix dimensions.\n",
      "To use the future default and silence this warning we advise to pass `rcond=None`, to keep using the old, explicitly pass `rcond=-1`.\n"
     ]
    },
    {
     "data": {
      "text/plain": [
       "<matplotlib.legend.Legend at 0x7f9346a2e588>"
      ]
     },
     "execution_count": 71,
     "metadata": {},
     "output_type": "execute_result"
    },
    {
     "data": {
      "image/png": "[encoded data removed]",
      "text/plain": [
       "<Figure size 432x288 with 1 Axes>"
      ]
     },
     "metadata": {},
     "output_type": "display_data"
    }
   ],
   "source": [
    "plt.scatter(range(1,9), data)\n",
    "\n",
    "# very dependent of seed so try a couple of times for a nice convergence\n",
    "x = np.array([[0.61996606, 0.41497187]])\n",
    "x = np.array([[0.94227125, 0.99787559]])\n",
    "\n",
    "# These were good final values x = np.array([[0.11540536, 1.84922122]])\n",
    "print(x.shape)\n",
    "r = np.zeros((len(data),1))\n",
    "print(\"Start value of x:\", x)\n",
    "J = np.zeros((len(data),2))\n",
    "for i in range(0,250):\n",
    "    for t in range(1, len(data)):\n",
    "        J[t][0] = -x[0][1]**t\n",
    "        J[t][1] = -t*x[0][0]*(x[0][1]**(t-1))\n",
    "        r[t][0] = -1*(data[t-1] - x[0][0]*(x[0][1]**(t)))\n",
    "    s = np.linalg.lstsq(J, r)[0]\n",
    "    x += s.transpose()\n",
    "plt.plot(range(1,9), x[0][0]*x[0][1]**range(1,9), label=\"Final Values:\" + str(k))\n",
    "print(k,\": End value of x:\", x)\n",
    "plt.legend()"
   ]
  },
  {
   "cell_type": "markdown",
   "metadata": {},
   "source": [
    "# (b)\n",
    "By using logarithms to transform the equations, a fit to these data can also be done by linear least squares. Perform such a linear least squares fit to obtain estimates for $P_0$ and $r$, and compare your results with those for the nonlinear fit. Put the corresponding functions in a picture together with the data points and briefly discuss the results."
   ]
  },
  {
   "cell_type": "markdown",
   "metadata": {},
   "source": [
    "$$f(t, x_1, x_2) = log(x_1\\!\\cdot x_2^t)$$\n",
    "\n",
    "$$\n",
    "\\frac{df}{dx_1} = 1/x_1\\\\\n",
    "\\frac{df}{dx_2} = t/x_2\\\\\n",
    "$$"
   ]
  },
  {
   "cell_type": "code",
   "execution_count": 98,
   "metadata": {},
   "outputs": [
    {
     "name": "stdout",
     "output_type": "stream",
     "text": [
      "Start value of x: [[0.14121779 0.36465049]]\n"
     ]
    },
    {
     "name": "stderr",
     "output_type": "stream",
     "text": [
      "/usr/lib/python3/dist-packages/ipykernel_launcher.py:18: FutureWarning: `rcond` parameter will change to the default of machine precision times ``max(M, N)`` where M and N are the input matrix dimensions.\n",
      "To use the future default and silence this warning we advise to pass `rcond=None`, to keep using the old, explicitly pass `rcond=-1`.\n"
     ]
    },
    {
     "ename": "ValueError",
     "evalue": "math domain error",
     "output_type": "error",
     "traceback": [
      "\u001b[0;31m---------------------------------------------------------------------------\u001b[0m",
      "\u001b[0;31mValueError\u001b[0m                                Traceback (most recent call last)",
      "\u001b[0;32m<ipython-input-98-da9470338490>\u001b[0m in \u001b[0;36m<module>\u001b[0;34m()\u001b[0m\n\u001b[1;32m     14\u001b[0m             \u001b[0mJ\u001b[0m\u001b[0;34m[\u001b[0m\u001b[0mt\u001b[0m\u001b[0;34m]\u001b[0m\u001b[0;34m[\u001b[0m\u001b[0;36m1\u001b[0m\u001b[0;34m]\u001b[0m \u001b[0;34m=\u001b[0m \u001b[0;34m-\u001b[0m\u001b[0mt\u001b[0m\u001b[0;34m/\u001b[0m\u001b[0mx\u001b[0m\u001b[0;34m[\u001b[0m\u001b[0;36m0\u001b[0m\u001b[0;34m]\u001b[0m\u001b[0;34m[\u001b[0m\u001b[0;36m1\u001b[0m\u001b[0;34m]\u001b[0m\u001b[0;34m\u001b[0m\u001b[0;34m\u001b[0m\u001b[0m\n\u001b[1;32m     15\u001b[0m             \u001b[0mfunc\u001b[0m \u001b[0;34m=\u001b[0m \u001b[0mx\u001b[0m\u001b[0;34m[\u001b[0m\u001b[0;36m0\u001b[0m\u001b[0;34m]\u001b[0m\u001b[0;34m[\u001b[0m\u001b[0;36m0\u001b[0m\u001b[0;34m]\u001b[0m\u001b[0;34m*\u001b[0m\u001b[0;34m(\u001b[0m\u001b[0mx\u001b[0m\u001b[0;34m[\u001b[0m\u001b[0;36m0\u001b[0m\u001b[0;34m]\u001b[0m\u001b[0;34m[\u001b[0m\u001b[0;36m1\u001b[0m\u001b[0;34m]\u001b[0m\u001b[0;34m**\u001b[0m\u001b[0;34m(\u001b[0m\u001b[0mt\u001b[0m\u001b[0;34m)\u001b[0m\u001b[0;34m)\u001b[0m\u001b[0;34m\u001b[0m\u001b[0;34m\u001b[0m\u001b[0m\n\u001b[0;32m---> 16\u001b[0;31m             \u001b[0my\u001b[0m \u001b[0;34m=\u001b[0m \u001b[0mmath\u001b[0m\u001b[0;34m.\u001b[0m\u001b[0mlog10\u001b[0m\u001b[0;34m(\u001b[0m\u001b[0mfunc\u001b[0m\u001b[0;34m)\u001b[0m\u001b[0;34m\u001b[0m\u001b[0;34m\u001b[0m\u001b[0m\n\u001b[0m\u001b[1;32m     17\u001b[0m             \u001b[0mr\u001b[0m\u001b[0;34m[\u001b[0m\u001b[0mt\u001b[0m\u001b[0;34m]\u001b[0m\u001b[0;34m[\u001b[0m\u001b[0;36m0\u001b[0m\u001b[0;34m]\u001b[0m \u001b[0;34m=\u001b[0m \u001b[0;34m-\u001b[0m\u001b[0;36m1\u001b[0m\u001b[0;34m*\u001b[0m\u001b[0;34m(\u001b[0m\u001b[0mdata\u001b[0m\u001b[0;34m[\u001b[0m\u001b[0mt\u001b[0m\u001b[0;34m-\u001b[0m\u001b[0;36m1\u001b[0m\u001b[0;34m]\u001b[0m \u001b[0;34m-\u001b[0m \u001b[0my\u001b[0m\u001b[0;34m)\u001b[0m\u001b[0;34m\u001b[0m\u001b[0;34m\u001b[0m\u001b[0m\n\u001b[1;32m     18\u001b[0m         \u001b[0ms\u001b[0m \u001b[0;34m=\u001b[0m \u001b[0mnp\u001b[0m\u001b[0;34m.\u001b[0m\u001b[0mlinalg\u001b[0m\u001b[0;34m.\u001b[0m\u001b[0mlstsq\u001b[0m\u001b[0;34m(\u001b[0m\u001b[0mJ\u001b[0m\u001b[0;34m,\u001b[0m \u001b[0mr\u001b[0m\u001b[0;34m)\u001b[0m\u001b[0;34m[\u001b[0m\u001b[0;36m0\u001b[0m\u001b[0;34m]\u001b[0m\u001b[0;34m\u001b[0m\u001b[0;34m\u001b[0m\u001b[0m\n",
      "\u001b[0;31mValueError\u001b[0m: math domain error"
     ]
    },
    {
     "data": {
      "image/png": "[encoded data removed]",
      "text/plain": [
       "<Figure size 432x288 with 1 Axes>"
      ]
     },
     "metadata": {},
     "output_type": "display_data"
    }
   ],
   "source": [
    "from decimal import Decimal\n",
    "\n",
    "plt.scatter(range(1,9), data)\n",
    "\n",
    "for k in range(0,20):\n",
    "    # very dependent of seed so try a couple of times for a nice convergence\n",
    "    x = np.random.rand(1,2)\n",
    "    r = np.zeros((len(data),1))\n",
    "    print(\"Start value of x:\", x)\n",
    "    J = np.zeros((len(data),2))\n",
    "    for i in range(0,200):\n",
    "        for t in range(1, len(data)):\n",
    "            J[t][0] = -1/x[0][1]\n",
    "            J[t][1] = -t/x[0][1]\n",
    "            func = x[0][0]*(x[0][1]**(t))\n",
    "            y = math.log10(func)\n",
    "            r[t][0] = -1*(data[t-1] - y)\n",
    "        s = np.linalg.lstsq(J, r)[0]\n",
    "        x += s.transpose()\n",
    "    plt.plot(range(1,9), x[0][0]*x[0][1]**range(1,9), label=\"Final Values:\" + str(k))\n",
    "    print(k,\": End value of x:\", x)\n",
    "plt.legend()\n",
    "plt.ylim(0, 20)"
   ]
  },
  {
   "cell_type": "markdown",
   "metadata": {},
   "source": [
    "----------------------\n",
    "# Exercise 3\n",
    "\n"
   ]
  },
  {
   "cell_type": "markdown",
   "metadata": {},
   "source": [
    "Runge's function is given by\n",
    "\n",
    "$$ f(t) = 1/(1+25t^2).$$"
   ]
  },
  {
   "cell_type": "code",
   "execution_count": 26,
   "metadata": {},
   "outputs": [],
   "source": [
    "def polynomial_2(x, c):\n",
    "    return c[2] * x**2 + c[1] * x**1 + c[0] + 4\n",
    "\n",
    "def polynomial_5(x, c):\n",
    "    return c[5] * x**5 + c[4] * x**4 +\\\n",
    "            c[3] * x**3 + c[2] * x**2 +\\\n",
    "            c[1] * x + c[0]\n",
    "    \n",
    "def polynomial_10(x, c):\n",
    "    return c[10] * x**10 + c[9] * x**9 +\\\n",
    "            c[8] * x**8 + c[7] * x**7 +\\\n",
    "            c[6] * x**6 + c[5] * x**5 +\\\n",
    "            c[4] * x**4 + c[3] * x**3 +\\\n",
    "            c[2] * x**2 + c[1] * x + c[0] + 1\n",
    "\n",
    "def polynomial_15(x, c):\n",
    "    return c[15] * x**15 + c[14] * x**14 +\\\n",
    "            c[13] * x**13 + c[12] * x**12 +\\\n",
    "            c[11] * x**11 + c[10] * x**10 +\\\n",
    "            c[9] * x**9 + c[8] * x**8 +\\\n",
    "            c[7] * x**7 + c[6] * x**6 +\\\n",
    "            c[5] * x**5 + c[4] * x**4 +\\\n",
    "            c[3] * x**3 + c[2] * x**2 +\\\n",
    "            c[1] * x + c[0] + 2\n",
    "\n",
    "\n",
    "def runge_function(x):\n",
    "    return 1 / (1 + 25 * x**2)"
   ]
  },
  {
   "cell_type": "markdown",
   "metadata": {},
   "source": [
    "# (a)\n",
    "Interpolate Runge's function on $[-1,1]$ by a polynomial $p_k$ of degree $k$ for $k = 5,10,15$. Use equally spaced interpolation points. Draw your interpolating polynomials together with $f$."
   ]
  },
  {
   "cell_type": "code",
   "execution_count": 27,
   "metadata": {
    "scrolled": false
   },
   "outputs": [
    {
     "name": "stdout",
     "output_type": "stream",
     "text": [
      "1.0\n",
      "0.13793103448275862\n",
      "0.038461538461538464\n",
      "3 3 [0.  0.5 1. ] [1.         0.13793103 0.03846154]\n",
      "[[1.         1.         1.        ]\n",
      " [1.         0.13793103 0.01902497]\n",
      " [1.         0.03846154 0.00147929]] [1.         0.13793103 0.03846154]\n",
      "[ 0.00000000e+00  1.00000000e+00 -1.29472729e-15]\n",
      "1.0\n",
      "0.5\n",
      "0.19999999999999996\n",
      "0.09999999999999998\n",
      "0.05882352941176469\n",
      "0.038461538461538464\n",
      "6 6 [0.  0.2 0.4 0.6 0.8 1. ] [1.         0.5        0.2        0.1        0.05882353 0.03846154]\n",
      "[[1.00000000e+00 1.00000000e+00 1.00000000e+00 1.00000000e+00\n",
      "  1.00000000e+00 1.00000000e+00]\n",
      " [1.00000000e+00 5.00000000e-01 2.50000000e-01 1.25000000e-01\n",
      "  6.25000000e-02 3.12500000e-02]\n",
      " [1.00000000e+00 2.00000000e-01 4.00000000e-02 8.00000000e-03\n",
      "  1.60000000e-03 3.20000000e-04]\n",
      " [1.00000000e+00 1.00000000e-01 1.00000000e-02 1.00000000e-03\n",
      "  1.00000000e-04 1.00000000e-05]\n",
      " [1.00000000e+00 5.88235294e-02 3.46020761e-03 2.03541624e-04\n",
      "  1.19730367e-05 7.04296278e-07]\n",
      " [1.00000000e+00 3.84615385e-02 1.47928994e-03 5.68957670e-05\n",
      "  2.18829873e-06 8.41653357e-08]] [1.         0.5        0.2        0.1        0.05882353 0.03846154]\n",
      "[-8.88178420e-16  1.00000000e+00 -4.90874246e-13  2.34750834e-12\n",
      " -4.15288300e-12  2.25889034e-12]\n",
      "1.0\n",
      "0.8\n",
      "0.5\n",
      "0.30769230769230765\n",
      "0.19999999999999996\n",
      "0.13793103448275862\n",
      "0.09999999999999998\n",
      "0.07547169811320753\n",
      "0.05882352941176469\n",
      "0.047058823529411764\n",
      "0.038461538461538464\n",
      "11 11 [0.  0.1 0.2 0.3 0.4 0.5 0.6 0.7 0.8 0.9 1. ] [1.         0.8        0.5        0.30769231 0.2        0.13793103\n",
      " 0.1        0.0754717  0.05882353 0.04705882 0.03846154]\n",
      "[[1.00000000e+00 1.00000000e+00 1.00000000e+00 1.00000000e+00\n",
      "  1.00000000e+00 1.00000000e+00 1.00000000e+00 1.00000000e+00\n",
      "  1.00000000e+00 1.00000000e+00 1.00000000e+00]\n",
      " [1.00000000e+00 8.00000000e-01 6.40000000e-01 5.12000000e-01\n",
      "  4.09600000e-01 3.27680000e-01 2.62144000e-01 2.09715200e-01\n",
      "  1.67772160e-01 1.34217728e-01 1.07374182e-01]\n",
      " [1.00000000e+00 5.00000000e-01 2.50000000e-01 1.25000000e-01\n",
      "  6.25000000e-02 3.12500000e-02 1.56250000e-02 7.81250000e-03\n",
      "  3.90625000e-03 1.95312500e-03 9.76562500e-04]\n",
      " [1.00000000e+00 3.07692308e-01 9.46745562e-02 2.91306327e-02\n",
      "  8.96327159e-03 2.75792972e-03 8.48593760e-04 2.61105772e-04\n",
      "  8.03402377e-05 2.47200731e-05 7.60617635e-06]\n",
      " [1.00000000e+00 2.00000000e-01 4.00000000e-02 8.00000000e-03\n",
      "  1.60000000e-03 3.20000000e-04 6.40000000e-05 1.28000000e-05\n",
      "  2.56000000e-06 5.12000000e-07 1.02400000e-07]\n",
      " [1.00000000e+00 1.37931034e-01 1.90249703e-02 2.62413383e-03\n",
      "  3.61949494e-04 4.99240681e-05 6.88607836e-06 9.49803912e-07\n",
      "  1.31007436e-07 1.80699912e-08 2.49241258e-09]\n",
      " [1.00000000e+00 1.00000000e-01 1.00000000e-02 1.00000000e-03\n",
      "  1.00000000e-04 1.00000000e-05 1.00000000e-06 1.00000000e-07\n",
      "  1.00000000e-08 1.00000000e-09 1.00000000e-10]\n",
      " [1.00000000e+00 7.54716981e-02 5.69597722e-03 4.29885073e-04\n",
      "  3.24441564e-05 2.44861558e-06 1.84801176e-07 1.39472586e-08\n",
      "  1.05262329e-09 7.94432670e-11 5.99571826e-12]\n",
      " [1.00000000e+00 5.88235294e-02 3.46020761e-03 2.03541624e-04\n",
      "  1.19730367e-05 7.04296278e-07 4.14291928e-08 2.43701134e-09\n",
      "  1.43353608e-10 8.43256520e-12 4.96033247e-13]\n",
      " [1.00000000e+00 4.70588235e-02 2.21453287e-03 1.04213312e-04\n",
      "  4.90415584e-06 2.30783804e-07 1.08604143e-08 5.11078321e-10\n",
      "  2.40507445e-11 1.13179974e-12 5.32611643e-14]\n",
      " [1.00000000e+00 3.84615385e-02 1.47928994e-03 5.68957670e-05\n",
      "  2.18829873e-06 8.41653357e-08 3.23712830e-09 1.24504935e-10\n",
      "  4.78865133e-12 1.84178897e-13 7.08380374e-15]] [1.         0.8        0.5        0.30769231 0.2        0.13793103\n",
      " 0.1        0.0754717  0.05882353 0.04705882 0.03846154]\n",
      "[ 3.33066907e-16  1.00000000e+00  1.04733668e-11 -2.76063320e-10\n",
      "  3.77152487e-09 -2.93834789e-08  1.35088369e-07 -3.65593082e-07\n",
      "  5.61303077e-07 -4.45331343e-07  1.40410682e-07]\n",
      "1.0\n",
      "0.8999999999999999\n",
      "0.6923076923076923\n",
      "0.5\n",
      "0.36\n",
      "0.2647058823529412\n",
      "0.19999999999999996\n",
      "0.15517241379310345\n",
      "0.12328767123287672\n",
      "0.1\n",
      "0.08256880733944955\n",
      "0.06923076923076923\n",
      "0.05882352941176469\n",
      "0.05056179775280899\n",
      "0.04390243902439024\n",
      "0.038461538461538464\n",
      "16 16 [0.         0.06666667 0.13333333 0.2        0.26666667 0.33333333\n",
      " 0.4        0.46666667 0.53333333 0.6        0.66666667 0.73333333\n",
      " 0.8        0.86666667 0.93333333 1.        ] [1.         0.9        0.69230769 0.5        0.36       0.26470588\n",
      " 0.2        0.15517241 0.12328767 0.1        0.08256881 0.06923077\n",
      " 0.05882353 0.0505618  0.04390244 0.03846154]\n",
      "[[1.00000000e+00 1.00000000e+00 1.00000000e+00 1.00000000e+00\n",
      "  1.00000000e+00 1.00000000e+00 1.00000000e+00 1.00000000e+00\n",
      "  1.00000000e+00 1.00000000e+00 1.00000000e+00 1.00000000e+00\n",
      "  1.00000000e+00 1.00000000e+00 1.00000000e+00 1.00000000e+00]\n",
      " [1.00000000e+00 9.00000000e-01 8.10000000e-01 7.29000000e-01\n",
      "  6.56100000e-01 5.90490000e-01 5.31441000e-01 4.78296900e-01\n",
      "  4.30467210e-01 3.87420489e-01 3.48678440e-01 3.13810596e-01\n",
      "  2.82429536e-01 2.54186583e-01 2.28767925e-01 2.05891132e-01]\n",
      " [1.00000000e+00 6.92307692e-01 4.79289941e-01 3.31816113e-01\n",
      "  2.29718847e-01 1.59036125e-01 1.10101933e-01 7.62244150e-02\n",
      "  5.27707488e-02 3.65335954e-02 2.52924891e-02 1.75101848e-02\n",
      "  1.21224356e-02 8.39245541e-03 5.81016144e-03 4.02241946e-03]\n",
      " [1.00000000e+00 5.00000000e-01 2.50000000e-01 1.25000000e-01\n",
      "  6.25000000e-02 3.12500000e-02 1.56250000e-02 7.81250000e-03\n",
      "  3.90625000e-03 1.95312500e-03 9.76562500e-04 4.88281250e-04\n",
      "  2.44140625e-04 1.22070312e-04 6.10351562e-05 3.05175781e-05]\n",
      " [1.00000000e+00 3.60000000e-01 1.29600000e-01 4.66560000e-02\n",
      "  1.67961600e-02 6.04661760e-03 2.17678234e-03 7.83641641e-04\n",
      "  2.82110991e-04 1.01559957e-04 3.65615844e-05 1.31621704e-05\n",
      "  4.73838134e-06 1.70581728e-06 6.14094221e-07 2.21073920e-07]\n",
      " [1.00000000e+00 2.64705882e-01 7.00692042e-02 1.85477305e-02\n",
      "  4.90969337e-03 1.29962472e-03 3.44018307e-04 9.10636695e-05\n",
      "  2.41050890e-05 6.38075885e-06 1.68902440e-06 4.47094695e-07\n",
      "  1.18348596e-07 3.13275694e-08 8.29259191e-09 2.19509786e-09]\n",
      " [1.00000000e+00 2.00000000e-01 4.00000000e-02 8.00000000e-03\n",
      "  1.60000000e-03 3.20000000e-04 6.40000000e-05 1.28000000e-05\n",
      "  2.56000000e-06 5.12000000e-07 1.02400000e-07 2.04800000e-08\n",
      "  4.09600000e-09 8.19200000e-10 1.63840000e-10 3.27680000e-11]\n",
      " [1.00000000e+00 1.55172414e-01 2.40784780e-02 3.73631555e-03\n",
      "  5.79773103e-04 8.99647918e-05 1.39600539e-05 2.16621526e-06\n",
      "  3.36136851e-07 5.21591665e-08 8.09366377e-09 1.25591334e-09\n",
      "  1.94883105e-10 3.02404818e-11 4.69248856e-12 7.28144776e-13]\n",
      " [1.00000000e+00 1.23287671e-01 1.51998499e-02 1.87395409e-03\n",
      "  2.31035436e-04 2.84838209e-05 3.51170395e-06 4.32949802e-07\n",
      "  5.33773728e-08 6.58077199e-09 8.11328054e-10 1.00026746e-10\n",
      "  1.23320646e-11 1.52039153e-12 1.87445531e-13 2.31097230e-14]\n",
      " [1.00000000e+00 1.00000000e-01 1.00000000e-02 1.00000000e-03\n",
      "  1.00000000e-04 1.00000000e-05 1.00000000e-06 1.00000000e-07\n",
      "  1.00000000e-08 1.00000000e-09 1.00000000e-10 1.00000000e-11\n",
      "  1.00000000e-12 1.00000000e-13 1.00000000e-14 1.00000000e-15]\n",
      " [1.00000000e+00 8.25688073e-02 6.81760795e-03 5.62921757e-04\n",
      "  4.64797781e-05 3.83777984e-06 3.16880904e-07 2.61644784e-08\n",
      "  2.16036977e-09 1.78379155e-10 1.47285541e-11 1.21611915e-12\n",
      "  1.00413508e-13 8.29102356e-15 6.84579927e-16 5.65249481e-17]\n",
      " [1.00000000e+00 6.92307692e-02 4.79289941e-03 3.31816113e-04\n",
      "  2.29718847e-05 1.59036125e-06 1.10101933e-07 7.62244150e-09\n",
      "  5.27707488e-10 3.65335954e-11 2.52924891e-12 1.75101848e-13\n",
      "  1.21224356e-14 8.39245541e-16 5.81016144e-17 4.02241946e-18]\n",
      " [1.00000000e+00 5.88235294e-02 3.46020761e-03 2.03541624e-04\n",
      "  1.19730367e-05 7.04296278e-07 4.14291928e-08 2.43701134e-09\n",
      "  1.43353608e-10 8.43256520e-12 4.96033247e-13 2.91784263e-14\n",
      "  1.71637802e-15 1.00963413e-16 5.93902428e-18 3.49354369e-19]\n",
      " [1.00000000e+00 5.05617978e-02 2.55649539e-03 1.29261003e-04\n",
      "  6.53566869e-06 3.30455158e-07 1.67084069e-08 8.44807090e-10\n",
      "  4.27149652e-11 2.15974543e-12 1.09200612e-13 5.52137925e-15\n",
      "  2.79170861e-16 1.41153806e-17 7.13699019e-19 3.60859055e-20]\n",
      " [1.00000000e+00 4.39024390e-02 1.92742415e-03 8.46186213e-05\n",
      "  3.71496386e-06 1.63095974e-07 7.16031107e-09 3.14355120e-10\n",
      "  1.38009565e-11 6.05895651e-13 2.66002969e-14 1.16781791e-15\n",
      "  5.12700547e-17 2.25088045e-18 9.88191417e-20 4.33840134e-21]\n",
      " [1.00000000e+00 3.84615385e-02 1.47928994e-03 5.68957670e-05\n",
      "  2.18829873e-06 8.41653357e-08 3.23712830e-09 1.24504935e-10\n",
      "  4.78865133e-12 1.84178897e-13 7.08380374e-15 2.72453990e-16\n",
      "  1.04789996e-17 4.03038447e-19 1.55014787e-20 5.96210720e-22]] [1.         0.9        0.69230769 0.5        0.36       0.26470588\n",
      " 0.2        0.15517241 0.12328767 0.1        0.08256881 0.06923077\n",
      " 0.05882353 0.0505618  0.04390244 0.03846154]\n",
      "[ 3.82804899e-13  1.00000000e+00  3.64676184e-09 -1.34424522e-07\n",
      "  3.18811303e-06 -5.15298115e-05  5.85708603e-04 -4.75834094e-03\n",
      "  2.77942817e-02 -1.16459332e-01  3.46474402e-01 -7.17757063e-01\n",
      "  1.00186278e+00 -8.90365457e-01  4.51560810e-01 -9.88893180e-02]\n"
     ]
    },
    {
     "data": {
      "text/plain": [
       "<matplotlib.legend.Legend at 0x271a790e160>"
      ]
     },
     "execution_count": 27,
     "metadata": {},
     "output_type": "execute_result"
    },
    {
     "data": {
      "image/png": "[encoded data removed]",
      "text/plain": [
       "<Figure size 1080x720 with 1 Axes>"
      ]
     },
     "metadata": {
      "needs_background": "light"
     },
     "output_type": "display_data"
    }
   ],
   "source": [
    "# proper linspace\n",
    "x = np.linspace(-1, 1, 2000)\n",
    "\n",
    "y = []\n",
    "# generate some data points\n",
    "for point in x:\n",
    "    y.append(runge_function(point))\n",
    "plt.figure(figsize=(15,10))\n",
    "\n",
    "plt.plot(x,y, label=\"Runge function\")    \n",
    "\n",
    "k_list = [2, 5, 10, 15]\n",
    "\n",
    "for k in k_list:\n",
    "    # proper linspace\n",
    "    x = np.linspace(0, 1, k+1)\n",
    "\n",
    "    k_points = []\n",
    "    # generate some data points\n",
    "    for point in x:\n",
    "        test = runge_function(point)\n",
    "        print(test)\n",
    "        k_points.append(test)\n",
    "\n",
    "    k_points = np.array(k_points)    \n",
    "    print(len(x), len(k_points), x, k_points)\n",
    "    \n",
    "    # plot it to get an idea of the function\n",
    "    label = \"Data points for k: \" + str(k)\n",
    "    plt.scatter(x, k_points, label=label)\n",
    "\n",
    "    # so let's use y as datapoints for the polynomial estimation\n",
    "    # take regular monomials as basis\n",
    "    phi = np.ones((len(x), len(x)))\n",
    "    \n",
    "    # set up Vandermonde matrix for basis function\n",
    "    for i in range(0, len(x)):\n",
    "        for j in range(0, len(x)):\n",
    "            phi[i][j] = k_points[i]**j\n",
    "            \n",
    "    print(phi, k_points)\n",
    "    \n",
    "    # calculate coefficients\n",
    "    coefficients = np.linalg.solve(phi, k_points)\n",
    "    print(coefficients)\n",
    "    \n",
    "    # plot \n",
    "    time_steps = np.linspace(-1, 1, 200000)\n",
    "\n",
    "    values = []\n",
    "\n",
    "    for t in time_steps:\n",
    "        if k == 2:\n",
    "            values.append(polynomial_2(t,coefficients))\n",
    "        elif k == 5:\n",
    "            values.append(polynomial_5(t,coefficients))\n",
    "        elif k == 10:\n",
    "            values.append(polynomial_10(t,coefficients))\n",
    "        elif k == 15:\n",
    "            values.append(polynomial_15(t,coefficients))\n",
    "    \n",
    "    label = \"Polynomial for k: \" + str(k)\n",
    "    plt.plot(time_steps,values, label=label)    \n",
    "\n",
    "plt.legend()"
   ]
  },
  {
   "cell_type": "markdown",
   "metadata": {},
   "source": [
    "# (b)\n",
    "Repeat (a) to find polynomials $q_k$. This time use the Chebyshev points as interpolation points. They are given by\n",
    "\n",
    "$$t_i = \\cos \\left( \\frac{(2i-1)\\pi}{2k+2} \\right),\\, \\,i = 1,\\ldots,k+1.$$"
   ]
  },
  {
   "cell_type": "code",
   "execution_count": null,
   "metadata": {},
   "outputs": [],
   "source": []
  },
  {
   "cell_type": "markdown",
   "metadata": {},
   "source": [
    "# (c)\n",
    "Verify numerically that the maximum of the difference of $f$ and $q_k$ in the interval $[-1,1]$ decreases with increasing $k$ by trying various values of $k$."
   ]
  },
  {
   "cell_type": "code",
   "execution_count": null,
   "metadata": {},
   "outputs": [],
   "source": []
  }
 ],
 "metadata": {
  "kernelspec": {
   "display_name": "Python 3",
   "language": "python",
   "name": "python3"
  },
  "language_info": {
   "codemirror_mode": {
    "name": "ipython",
    "version": 3
   },
   "file_extension": ".py",
   "mimetype": "text/x-python",
   "name": "python",
   "nbconvert_exporter": "python",
   "pygments_lexer": "ipython3",
   "version": "3.6.7"
  }
 },
 "nbformat": 4,
 "nbformat_minor": 2
}
