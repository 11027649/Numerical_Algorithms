{
 "cells": [
  {
   "cell_type": "markdown",
   "metadata": {},
   "source": [
    "Please **submit this Jupyter notebook through Canvas** no later than **Monday November 5 12:59**, before the start of the lecture.\n",
    "\n",
    "Homework is in **groups of two**, and you are expected to hand in original work. Work that is copied from another group will not be accepted."
   ]
  },
  {
   "cell_type": "markdown",
   "metadata": {},
   "source": [
    "# Exercise 0\n",
    "Write down the names + student ID of the people in your group."
   ]
  },
  {
   "cell_type": "markdown",
   "metadata": {},
   "source": [
    "**Jordan Earle** (12297127)\n",
    "\n",
    "**Natasja Wezel** (11027649)"
   ]
  },
  {
   "cell_type": "code",
   "execution_count": 10,
   "metadata": {},
   "outputs": [],
   "source": [
    "import matplotlib.pyplot as plt\n",
    "import numpy as np\n",
    "import math"
   ]
  },
  {
   "cell_type": "markdown",
   "metadata": {},
   "source": [
    "-----\n",
    "# Exercise 1\n",
    "Compute a solution to the equation\n",
    "\n",
    "$$ 600 x^4 - 550 x^3 + 200 x^2 - 20 x - 1 = 0, \\quad x \\in [0.1, 1.0], $$\n",
    "\n",
    "using each of the following methods.\n",
    "\n",
    "The actual roots are: (-0.04,0) and (0.23,0). We can discard (-0.04,0) because the assignement says $x \\in [0.1, 1.0]$."
   ]
  },
  {
   "cell_type": "code",
   "execution_count": 4,
   "metadata": {},
   "outputs": [],
   "source": [
    "def f(x):\n",
    "    return 600 * x**4 - 550 * x**3 + 200 * x**2 - 20 * x - 1\n",
    "\n",
    "def f_derivative(x):\n",
    "    return 2400 * x**3 - 1650 * x**2 + 400*x - 20"
   ]
  },
  {
   "cell_type": "markdown",
   "metadata": {},
   "source": [
    "## (a)\n",
    "Using the interval bisection method."
   ]
  },
  {
   "cell_type": "code",
   "execution_count": 11,
   "metadata": {},
   "outputs": [
    {
     "name": "stdout",
     "output_type": "stream",
     "text": [
      "0.23235296681523326\n"
     ]
    }
   ],
   "source": [
    "# define interval bisection method\n",
    "def interval_bisection(a, b, tolerance):\n",
    "    bisection_list = []\n",
    "    \n",
    "    while (b-a > tolerance):\n",
    "        m = a + (b - a)/2\n",
    "        bisection_list.append(m)\n",
    "\n",
    "        if f(a) < 0 and f(m) < 0 or f(a) >= 0 and f(m) >= 0:\n",
    "            a = m\n",
    "        else:\n",
    "            b = m\n",
    "    return bisection_list\n",
    "\n",
    "# try interval bisection for this problem\n",
    "tolerance = 0.00000001\n",
    "a = 0.1\n",
    "b = 1.0\n",
    "\n",
    "root = interval_bisection(a,b,tolerance)\n",
    "print(root[-1])\n"
   ]
  },
  {
   "cell_type": "markdown",
   "metadata": {},
   "source": [
    "## (b)\n",
    "Using newton's method."
   ]
  },
  {
   "cell_type": "code",
   "execution_count": 10,
   "metadata": {},
   "outputs": [
    {
     "name": "stdout",
     "output_type": "stream",
     "text": [
      "0.2323529647499171\n"
     ]
    }
   ],
   "source": [
    "# define newtons method\n",
    "def newton(x0):\n",
    "    newton_list = []\n",
    "    \n",
    "    for k in range(20):\n",
    "        next_x = x0 - f(x0)/f_derivative(x0)\n",
    "        x0 = next_x\n",
    "        newton_list.append(x0)\n",
    "    return newton_list\n",
    "\n",
    "# try newtons method for this problem\n",
    "x0 = 1\n",
    "root = newton(x0)\n",
    "print(root[-1])"
   ]
  },
  {
   "cell_type": "markdown",
   "metadata": {},
   "source": [
    "## (c)\n",
    "Using the secant method."
   ]
  },
  {
   "cell_type": "code",
   "execution_count": 19,
   "metadata": {},
   "outputs": [
    {
     "name": "stdout",
     "output_type": "stream",
     "text": [
      "0.23235296474991715\n"
     ]
    }
   ],
   "source": [
    "# if we iterate further than 9 steps f(xk) = f(xkminus1) (because it converges to the same number)\n",
    "\n",
    "secant_list = []\n",
    "\n",
    "xkminus1, xk = 0.3, 1.0\n",
    "\n",
    "for i in range(1, 10):\n",
    "    xkplus1 = xk - (f(xk) * (xk - xkminus1))/(f(xk) - f(xkminus1))\n",
    "    \n",
    "    xkminus1 = xk\n",
    "    xk = xkplus1\n",
    "    secant_list.append(xk)\n",
    "    \n",
    "print(xk)"
   ]
  },
  {
   "cell_type": "markdown",
   "metadata": {},
   "source": [
    "## (d)\n",
    "Compare the speed of convergence you observe for the three methods. Plot your results and briefly explain."
   ]
  },
  {
   "cell_type": "code",
   "execution_count": 20,
   "metadata": {},
   "outputs": [
    {
     "data": {
      "text/plain": [
       "[<matplotlib.lines.Line2D at 0x1b474f83e80>]"
      ]
     },
     "execution_count": 20,
     "metadata": {},
     "output_type": "execute_result"
    },
    {
     "data": {
      "image/png": "[encoded data removed]",
      "text/plain": [
       "<Figure size 432x288 with 1 Axes>"
      ]
     },
     "metadata": {
      "needs_background": "light"
     },
     "output_type": "display_data"
    }
   ],
   "source": [
    "plt.plot(range(len(bisection_list)), bisection_list, label=\"Bisection Interval Method\")\n",
    "plt.plot(range(len(newton_list)), newton_list, label= \"Newton Method\")\n",
    "plt.plot(range(len(secant_list)), secant_list, label=\"Secant Method\")"
   ]
  },
  {
   "cell_type": "markdown",
   "metadata": {},
   "source": [
    "--------\n",
    "# Exercise 2\n",
    "Consider the following boundary value problem involving a nonlinear ordinary differential equation:\n",
    "\n",
    "$$y''(x) + \\exp(y(x)) = 0, \\quad 0 < x < 1, \\quad y(0) = y(1) = 0.$$\n",
    "\n",
    "We can approximate the solution by discretizing the differential equation and solving the resulting system of nonlinear equations. Suppose we use $n+2$ discretization points for $x$ (denoted $x_k = kh$ for $k \\in \\{0, \\ldots, n+1\\}$ and $h = \\frac{1}{n+1}$, the approximate solution is denoted $y_k = y(x_k)$.\n",
    "\n",
    "We will use a _central finite difference_ approximation for the second derivative: \n",
    "\n",
    "$$y''(t_k) \\approx \\frac{y_{k+1} - 2 y_k + y_{k-1}}{h^2}$$\n",
    "\n",
    "From the boundary values, we conclude that $y_0 = y_{n+1} = 0$. The result is a set of $n$ nonlinear equations\n",
    "\n",
    "$$ \\frac{y_{k+1} + y_{k-1} - 2 y_k}{h^2} + \\exp y_k = 0, \\quad k = 1, \\ldots, n.$$"
   ]
  },
  {
   "cell_type": "markdown",
   "metadata": {},
   "source": [
    "## (a)\n",
    "Write this set of equations as $\\mathbf{f}(\\mathbf x) = \\mathbf{0}$, where $\\mathbf f$ is a function from $\\mathbf x \\in \\mathbb R^{n}$ to $\\mathbf f(\\mathbf x) \\in \\mathbb R^{n}$. What is $\\mathbf x$, and what is $\\mathbf f$?"
   ]
  },
  {
   "cell_type": "markdown",
   "metadata": {},
   "source": [
    "\\begin{align}\n",
    "    f_k (x) = \\frac{x_{k+1} + x_{k-1} - 2x_{k}}{h^2} + \\exp x_k = 0 \\\\\n",
    "    x = [y_1,y_2,...,y_n]  \\text{ for k = 1, ..., n}\n",
    "\\end{align}"
   ]
  },
  {
   "cell_type": "markdown",
   "metadata": {},
   "source": [
    "## (b)\n",
    "What is the Jacobian corresponding to this set of equations?"
   ]
  },
  {
   "cell_type": "markdown",
   "metadata": {},
   "source": [
    "$${\\displaystyle J_{f_n} (x) = \\nabla f_n(x)^T =  \\left( \\begin{array}{rrrrr} \\frac{df_{1}}{dy_1} &  \\frac{df_{2}}{dy_1}  &  \\dots &  \\frac{df_{n}}{dy_1} \\\\ \\frac{df_{2}}{dy_1}  & \\frac{df_{2}}{dy_2} &  & \\vdots   \\\\ \\vdots &  & \\ddots&\\vdots \\\\ \\frac{df_{n}}{dy_1} & \\dots & \\dots & \\frac{df_{n}}{dy_n} \\end{array} \\right) \\,}$$"
   ]
  },
  {
   "cell_type": "markdown",
   "metadata": {},
   "source": [
    "## (c)\n",
    "Using Newton's method, solve the system of equations. Try various initial guesses, including zero (i.e., $y_k = 0$ for all $k$). Show the solutions you find, and discuss the convergence that you observe."
   ]
  },
  {
   "cell_type": "code",
   "execution_count": 27,
   "metadata": {},
   "outputs": [
    {
     "name": "stdout",
     "output_type": "stream",
     "text": [
      "[[ -20659.54079648]\n",
      " [ -39632.01351039]\n",
      " [ -56908.65285543]\n",
      " [ -72481.36128513]\n",
      " [ -86342.75953899]\n",
      " [ -98486.22113747]\n",
      " [-108905.89902754]\n",
      " [-117596.74653314]\n",
      " [-124554.53405051]\n",
      " [-129775.86239222]\n",
      " [-133258.17321089]\n",
      " [-134999.75670396]\n",
      " [-134999.75670396]\n",
      " [-133258.17321089]\n",
      " [-129775.86239222]\n",
      " [-124554.53405051]\n",
      " [-117596.74653314]\n",
      " [-108905.89902754]\n",
      " [ -98486.22113747]\n",
      " [ -86342.75953899]\n",
      " [ -72481.36128513]\n",
      " [ -56908.65285543]\n",
      " [ -39632.01351039]\n",
      " [ -20659.54079648]]\n"
     ]
    }
   ],
   "source": [
    "n = 24\n",
    "h = 1/(n+1)\n",
    "h2 = h*h\n",
    "x = np.zeros([n,1])\n",
    "s = np.zeros([n,1])\n",
    "Jfx = np.zeros([n,n])\n",
    "fx = np.zeros([n,1])\n",
    "\n",
    "for k in range(0, 10):\n",
    "    for i in range(0, n):\n",
    "\n",
    "        if i == 0:\n",
    "            fx[i][0] = ((x[i+1][0] + 0 - 2*x[i][0])/h2) + math.exp(x[i][0])\n",
    "        elif i == n-1:\n",
    "            fx[i][0] = ((x[i-1][0] + 0 - 2*x[i][0])/h2) + math.exp(x[i][0])\n",
    "        else:\n",
    "            fx[i][0] = ((x[i-1][0] + x[i+1][0] - 2*x[i][0])/h2) + math.exp(x[i][0])\n",
    "\n",
    "        for j in range(0, n):\n",
    "            if i == j:\n",
    "                Jfx[i][j] = (-2.0/h2)+math.exp(x[i][0])\n",
    "            elif i == j+1 or j ==i+1:\n",
    "                Jfx[i][j] = (1.0/h2)\n",
    "    #print(Jfx)            \n",
    "    #print(fx)\n",
    "\n",
    "    s = np.linalg.solve(Jfx, fx)\n",
    "    x = s+x\n",
    "print(x)"
   ]
  },
  {
   "cell_type": "code",
   "execution_count": null,
   "metadata": {},
   "outputs": [],
   "source": []
  }
 ],
 "metadata": {
  "kernelspec": {
   "display_name": "Python 3",
   "language": "python",
   "name": "python3"
  },
  "language_info": {
   "codemirror_mode": {
    "name": "ipython",
    "version": 3
   },
   "file_extension": ".py",
   "mimetype": "text/x-python",
   "name": "python",
   "nbconvert_exporter": "python",
   "pygments_lexer": "ipython3",
   "version": "3.6.7"
  }
 },
 "nbformat": 4,
 "nbformat_minor": 2
}
