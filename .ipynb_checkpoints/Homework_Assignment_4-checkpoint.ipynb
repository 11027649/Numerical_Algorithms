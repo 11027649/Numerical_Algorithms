{
 "cells": [
  {
   "cell_type": "markdown",
   "metadata": {},
   "source": [
    "Please **submit this Jupyter notebook through Canvas** no later than **Monday November 19, 12:59**, before the start of the lecture.\n",
    "\n",
    "Homework is in **groups of two**, and you are expected to hand in original work. Work that is copied from another group will not be accepted."
   ]
  },
  {
   "cell_type": "markdown",
   "metadata": {},
   "source": [
    "# Exercise 0\n",
    "Write down the names + student ID of the people in your group."
   ]
  },
  {
   "cell_type": "markdown",
   "metadata": {},
   "source": [
    "**Jordan Earle** (12297127)\n",
    "\n",
    "**Natasja Wezel** (11027649)"
   ]
  },
  {
   "cell_type": "markdown",
   "metadata": {},
   "source": [
    "-------------\n",
    "# Exercise 1\n",
    "# (a)\n",
    "Let $Q$ be a real, square orthogonal matrix. Show that all eigenvalues of $Q$ satisfy $|\\lambda |=1$."
   ]
  },
  {
   "cell_type": "markdown",
   "metadata": {},
   "source": [
    "If $\\lambda$ is an eigenvalue of Q with corresponding eigenvector $x$, $Qx = \\lambda x$. This would mean that $||Qx||_2 = ||\\lambda x||_2$, and since an orthogonal matrix preserves the 2-norm, we have $||x||_2 = \\lambda \\cdot ||x||_2$, which would mean that $|\\lambda| = 1$."
   ]
  },
  {
   "cell_type": "markdown",
   "metadata": {},
   "source": [
    "\n",
    "# (b)\n",
    "A projection matrix is a matrix $P$ for which $P^2=P$. Find the eigenvalues of a projection matrix."
   ]
  },
  {
   "cell_type": "markdown",
   "metadata": {},
   "source": [
    "If $\\lambda$ is an eigenvalue of P with corresponding eigenvector $x$, $Px = \\lambda x$. This would mean that $P^2x = \\lambda Px = \\lambda^2 x$. This means that $\\lambda^2$ is an eigenvalue of $P^2$. If $P = P^2$, the eigenvalues are thus such that $\\lambda^2 = \\lambda$. The only possible values which satisfy this are 0 and 1."
   ]
  },
  {
   "cell_type": "markdown",
   "metadata": {},
   "source": [
    "-----------\n",
    "# Exercise 2\n",
    "Generate a symmetric $4 × 4$ matrix $A$ randomly, e.g. as below.\n",
    "Implement Rayleigh quotient iteration (Algorithm 4.4) to compute the largest eigenvalue and corresponding eigenvector of $A$. Use a suitable stopping criterion for your iterations (and explain why you think it is suitable). You may use `scipy.linalg.solve`."
   ]
  },
  {
   "cell_type": "code",
   "execution_count": null,
   "metadata": {},
   "outputs": [],
   "source": [
    "import numpy as np\n",
    "B = np.random.randn(4,4)\n",
    "A = B+B.T"
   ]
  },
  {
   "cell_type": "markdown",
   "metadata": {},
   "source": [
    "-------------\n",
    "# Exercise 3\n",
    "Let $A$ be a $n × n$ tridiagonal matrix that results (up to an overall constant scaling factor) from an\n",
    "$n$-point spatial discretization of the Laplace operator in $1$ spatial dimension. Specifically, all diagonal\n",
    "elements of $A$ have the value $-2$, all elements just below or above the diagonal have value $1$.\n",
    "\n",
    "$${\\displaystyle A = \\left( \\begin{array}{rrrrr} -2 &  1  &  0 &  0& \\ldots \\\\ 1  & -2 & 1 & 0 &\\ldots   \\\\ 0 & 1 & -2 &  1 &\\ldots \\\\ \\vdots & & & & \\ddots \\end{array} \\right) \\,}$$\n",
    "\n",
    "\n",
    "\n",
    "Take $n = 150$. Use `scipy.linalg.qr` to implement Algorithm 4.7 from the book and compute the full eigenvalue spectrum of $A$. Compare against\n",
    "the eigenvalues obtained by the built-in routine `scipy.linalg.eig(A)`. Show in a figure the (approximate)\n",
    "eigenvalues after 10, 100 and 500 QR iterations, as well as the eigenvalues obtained with `eig(A)`.\n"
   ]
  },
  {
   "cell_type": "code",
   "execution_count": null,
   "metadata": {},
   "outputs": [],
   "source": [
    "from scipy.sparse import diags\n"
   ]
  }
 ],
 "metadata": {
  "kernelspec": {
   "display_name": "Python 3",
   "language": "python",
   "name": "python3"
  },
  "language_info": {
   "codemirror_mode": {
    "name": "ipython",
    "version": 3
   },
   "file_extension": ".py",
   "mimetype": "text/x-python",
   "name": "python",
   "nbconvert_exporter": "python",
   "pygments_lexer": "ipython3",
   "version": "3.7.0"
  }
 },
 "nbformat": 4,
 "nbformat_minor": 2
}
