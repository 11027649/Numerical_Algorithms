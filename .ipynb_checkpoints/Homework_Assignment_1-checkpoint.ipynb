{
 "cells": [
  {
   "cell_type": "markdown",
   "metadata": {},
   "source": [
    "Please **submit this Jupyter notebook through Canvas** no later than **Monday November 5 12:59**, before the start of the lecture.\n",
    "\n",
    "Homework is in **groups of two**, and you are expected to hand in original work. Work that is copied from another group will not be accepted."
   ]
  },
  {
   "cell_type": "markdown",
   "metadata": {},
   "source": [
    "# Exercise 0\n",
    "Write down the names + student ID of the people in your group."
   ]
  },
  {
   "cell_type": "markdown",
   "metadata": {},
   "source": [
    "**Jordan Earle** (12297127)\n",
    "\n",
    "**Natasja Wezel** (11027649)"
   ]
  },
  {
   "cell_type": "code",
   "execution_count": 13,
   "metadata": {},
   "outputs": [],
   "source": [
    "import math\n",
    "import numpy as np\n",
    "import matplotlib.pyplot as plt\n",
    "\n",
    "# since Jordan is using Python 2.something\n",
    "from __future__ import division"
   ]
  },
  {
   "cell_type": "markdown",
   "metadata": {},
   "source": [
    "-----\n",
    "# Exercise 1\n",
    "Consider the function $f(x) = \\tan(x)$. Because $\\tan(x) = \\sin(x) / \\cos(x)$, we can approximate $f(x)$ using Taylor approximations for $\\sin(x)$ and $\\cos(x)$:\n",
    "$$\n",
    "  \\sin(x) \\approx x - \\frac{1}{6} x^3, \\quad \\text{and} \\quad \\cos(x) \\approx 1 - \\frac{1}{2} x^2.\n",
    "$$\n",
    "This gives the approximation\n",
    "$$\n",
    "\\hat f(x) = \\frac{x - \\frac{1}{6} x^3}{1 - \\frac{1}{2} x^2}.\n",
    "$$"
   ]
  },
  {
   "cell_type": "markdown",
   "metadata": {},
   "source": [
    "## (a)\n",
    "Evaluate $f(x)$ and $\\hat f(x)$ at $x = 1$ and $x = 1.4$. Compute the absolute forward error and absolute backward error."
   ]
  },
  {
   "cell_type": "code",
   "execution_count": 19,
   "metadata": {},
   "outputs": [
    {
     "name": "stdout",
     "output_type": "stream",
     "text": [
      "Forward and backward error for x: 1\n",
      "f: 0.10925894201176445\n",
      "b: 0.030376826524312506 \n",
      "\n",
      "Forward and backward error for x: 1.4\n",
      "f: 41.335449617850145\n",
      "b: 0.14958310200286484\n"
     ]
    }
   ],
   "source": [
    "import math\n",
    "import numpy as np\n",
    "\n",
    "\n",
    "def actualfunc(x):\n",
    "    return np.tan(x)\n",
    "\n",
    "def approxfunc(x):\n",
    "    # tan = sin/cos\n",
    "    approximate_sin = x - ((1 / 6) * x**3)\n",
    "    approximate_cos = 1 - ((1 / 2) * x**2)\n",
    "    \n",
    "    return approximate_sin/approximate_cos\n",
    "\n",
    "x0 = 1\n",
    "x1 = 1.4\n",
    "\n",
    "exact_fx0 = actualfunc(x0)\n",
    "exact_fx1 = actualfunc(x1)\n",
    "\n",
    "approximate_fx0 = approxfunc(x0)\n",
    "approximate_fx1 = approxfunc(x1)\n",
    "\n",
    "# exact - approximate for the forward error\n",
    "fe_x0 = np.abs(exact_fx0 - approximate_fx0)\n",
    "fe_x1 = np.abs(exact_fx1 - approximate_fx1)\n",
    "\n",
    "# exact - approximate for the backward error\n",
    "# TODO: what do we calculate here exactly? \n",
    "xhead_0 = np.arctan(approximate_fx0)\n",
    "xhead_1 = np.arctan(approximate_fx1)\n",
    "\n",
    "be_x0 = np.abs(x0 - xhead_0)\n",
    "be_x1 = np.abs(x1 - xhead_1)\n",
    "\n",
    "print(\"Forward and backward error for x:\", x0)\n",
    "print(\"f:\", fe_x0)\n",
    "print(\"b:\", be_x0, \"\\n\")\n",
    "\n",
    "print(\"Forward and backward error for x:\", x1)\n",
    "print(\"f:\", fe_x1)\n",
    "print(\"b:\", be_x1)"
   ]
  },
  {
   "cell_type": "markdown",
   "metadata": {},
   "source": [
    "## (b)\n",
    "Ignore $\\hat f(x)$ for now. Compute the relative condition number of $f(x)$ near $x=1$ and near $x=1.4$.\n",
    "\n",
    "Condition number = $\\frac{|(f(\\hat x) - f(x))/f(x)|}{|(\\hat x - x)/x|} = \\frac{|(\\hat y - y / y)|}{|(\\hat x - x)/x|} = \\frac{|\\Delta y/y|}{|\\Delta y/y|}$"
   ]
  },
  {
   "cell_type": "code",
   "execution_count": 22,
   "metadata": {},
   "outputs": [
    {
     "name": "stdout",
     "output_type": "stream",
     "text": [
      "Condition number near x = 1:  2.3094696819103926\n",
      "Condition number near x = 1.4:  66.72654919958688\n"
     ]
    }
   ],
   "source": [
    "# compute relative condition numbers\n",
    "# TODO: check if we should do this in a different way (since we can't use f-head)\n",
    "# something with derivatives?\n",
    "cn0 =  np.abs(((actualfunc(xhead_0) - actualfunc(x0))/actualfunc(x0))/(be_x0/x0))\n",
    "cn1 =  np.abs(((actualfunc(xhead_1) - actualfunc(x1))/actualfunc(x1))/(be_x1/x1))\n",
    "\n",
    "print(\"Condition number near x = 1: \", cn0)\n",
    "print(\"Condition number near x = 1.4: \", cn1)"
   ]
  },
  {
   "cell_type": "markdown",
   "metadata": {},
   "source": [
    "## (c)\n",
    "Compute the relative condition number of $\\hat f(x)$ near $x=1$ and near $x=1.4$."
   ]
  },
  {
   "cell_type": "code",
   "execution_count": 24,
   "metadata": {},
   "outputs": [
    {
     "name": "stdout",
     "output_type": "stream",
     "text": [
      "2.783651816072021\n",
      "10.27936830036851\n"
     ]
    }
   ],
   "source": [
    "ch0 = np.abs(((approxfunc(xhead_0) - approxfunc(x0))/approxfunc(x0))/(be_x0/x0))\n",
    "ch1 = np.abs(((approxfunc(xhead_1) - approxfunc(x1))/approxfunc(x1))/(be_x1/x1))\n",
    "\n",
    "print(ch0)\n",
    "print(ch1)"
   ]
  },
  {
   "cell_type": "markdown",
   "metadata": {},
   "source": [
    "--------\n",
    "# Exercise 2\n",
    "Consider the following finite difference approximations of the second derivative of a function $f(x)$:\n",
    "$$\n",
    "\\text{Centered FD:} \\quad f''(x) \\approx \\frac{f(x+h) - 2f(x) + f(x-h)}{h^2},\n",
    "$$\n",
    "$$\n",
    "\\text{Forward FD:} \\quad f''(x) \\approx \\frac{f(x+2h) - 2f(x+h) + f(x)}{h^2}.\n",
    "$$"
   ]
  },
  {
   "cell_type": "markdown",
   "metadata": {},
   "source": [
    "## (a)\n",
    "Consider the function $f(x) = \\exp(-2x)$ evaluated at $x = 0.5$. Compute both finite difference approximations for the range $h \\in \\{1, 10^{-1}, \\ldots, 10^{-16}\\}$."
   ]
  },
  {
   "cell_type": "code",
   "execution_count": 11,
   "metadata": {},
   "outputs": [
    {
     "name": "stdout",
     "output_type": "stream",
     "text": [
      "centered fd, forward fd for h:  1 2.0323100144840245 0.2750432514347999\n",
      "centered fd, forward fd for h:  0.1 1.476429368653903 1.208798128864452\n",
      "centered fd, forward fd for h:  0.01 1.4715668159320794 1.4424278406588442\n",
      "centered fd, forward fd for h:  0.001 1.4715182551916506 1.4685781597467695\n",
      "centered fd, forward fd for h:  0.0001 1.4715177687474323 1.4712234930325252\n",
      "centered fd, forward fd for h:  1e-05 1.4715179075253102 1.471487376392133\n",
      "centered fd, forward fd for h:  1e-06 1.4714340856869512 1.4716561302918763\n",
      "centered fd, forward fd for h:  1e-07 1.4765966227514584 1.459943277382081\n",
      "centered fd, forward fd for h:  1e-08 0.5551115123125782 2.775557561562891\n",
      "centered fd, forward fd for h:  1e-09 0.0 0.0\n",
      "centered fd, forward fd for h:  1e-10 -5551.115123125782 5551.115123125782\n",
      "centered fd, forward fd for h:  1e-11 -555111.5123125783 555111.5123125783\n",
      "centered fd, forward fd for h:  1e-12 0.0 0.0\n",
      "centered fd, forward fd for h:  1e-13 -5551115123.125782 11102230246.251564\n",
      "centered fd, forward fd for h:  1e-14 -555111512312.5782 555111512312.5782\n",
      "centered fd, forward fd for h:  1e-15 0.0 -55511151231257.82\n",
      "centered fd, forward fd for h:  1e-16 -5551115123125783.0 5551115123125783.0\n"
     ]
    }
   ],
   "source": [
    "# define the function we're going to evaluate\n",
    "def e_func(x):\n",
    "    return np.exp(-2 * x)\n",
    "\n",
    "# evaluate around x = 0.5\n",
    "x = 0.5\n",
    "\n",
    "# evaluate with different ranges for h\n",
    "h_list = []\n",
    "for i in range(17):\n",
    "    h_list.append(10**-i)\n",
    "\n",
    "# compute both finite different approximations for the different values of the range h\n",
    "# TODO: is something going wrong since there are zero's in this list?\n",
    "for h in h_list:\n",
    "    centered_fd = (e_func(x + h) - 2 * e_func(x) + e_func(x - h))/(h**2)\n",
    "    forward_fd = (e_func(x + 2*h) - 2 * e_func(x + h) + e_func(x))/(h**2)\n",
    "\n",
    "    print(\"centered fd, forward fd for h: \", h, centered_fd, forward_fd)"
   ]
  },
  {
   "cell_type": "markdown",
   "metadata": {},
   "source": [
    "## (b)\n",
    "Using the true second derivative $f''(x)$ at $x=0.5$, plot the total error of the two approximations as a function of $h$, like Figure 1.1 of the book by Heath."
   ]
  },
  {
   "cell_type": "code",
   "execution_count": 12,
   "metadata": {},
   "outputs": [
    {
     "data": {
      "text/plain": [
       "(0, 5000000)"
      ]
     },
     "execution_count": 12,
     "metadata": {},
     "output_type": "execute_result"
    },
    {
     "data": {
      "image/png": "[encoded data removed]",
      "text/plain": [
       "<Figure size 432x288 with 1 Axes>"
      ]
     },
     "metadata": {
      "needs_background": "light"
     },
     "output_type": "display_data"
    }
   ],
   "source": [
    "# define true second derivative of the function\n",
    "def e_second_d(x):\n",
    "    return 4 * np.exp(-2 * x)\n",
    "\n",
    "# make a list with the total errors\n",
    "error_list = []\n",
    "for h in h_list:\n",
    "    centered_fd = (e_second_d(x + h) - 2 * e_second_d(x) + e_second_d(x - h))/(h**2)\n",
    "    forward_fd = (e_second_d(x + 2*h) - 2 * e_second_d(x + h) + e_second_d(x))/(h**2)\n",
    "    error_list.append(centered_fd + forward_fd)\n",
    "\n",
    "fig, ax = plt.subplots()\n",
    "plt.scatter(h_list, error_list)\n",
    "plt.title(\"Computational error in finite difference for given step size\")\n",
    "ax.set_xlabel(\"values of h\")\n",
    "ax.set_ylabel(\"error\")\n",
    "# ax.set_yscale('log')\n",
    "# ax.set_xscale('log')\n",
    "ax.set_xlim(0,1)\n",
    "ax.set_ylim(0,5000000)"
   ]
  },
  {
   "cell_type": "markdown",
   "metadata": {},
   "source": [
    "## (c)\n",
    "Explain, in words, what you see. How do these approximations compare?"
   ]
  },
  {
   "cell_type": "markdown",
   "metadata": {},
   "source": []
  },
  {
   "cell_type": "markdown",
   "metadata": {},
   "source": [
    "----\n",
    "# Exercise 3 (Computer exercise 1.13 from the book)\n",
    "If an amount $a$ is invested at interest rate $r$ compounded $n$ times per year, then the final value $f$ at the end of one year is given by\n",
    "$$\n",
    "  f = a (1 + r/n)^n.\n",
    "$$\n",
    "This is the familiar formula for _compound interest_. When simple interest, $n=1$. Typically, compounding is done quarterly ($n=4$) or daily ($n=365$). Obviously, the more frequent the compounding, the greater the final amount. But how much difference does this frequency actually make?"
   ]
  },
  {
   "cell_type": "markdown",
   "metadata": {},
   "source": [
    "## (a)\n",
    "Write a program that implements the compound interest formula. Test your program using an initial investment of $a=100$, interest rate of 5 percent (so $r=0.05$), and the following values for $n$: $1, 4, 12, 365$.\n",
    "Do not use Pythons `pow` function, but compute $f$ as $a (1 + r/n) \\cdot (1+r/n) \\cdot \\ldots \\cdot (1+r/n)$."
   ]
  },
  {
   "cell_type": "code",
   "execution_count": 17,
   "metadata": {},
   "outputs": [
    {
     "name": "stdout",
     "output_type": "stream",
     "text": [
      "Interest frequention: 1\n",
      "105.0\n",
      "105.0 \n",
      "\n",
      "Interest frequention: 4\n",
      "105.09453369140623\n",
      "105.09453369140623 \n",
      "\n",
      "Interest frequention: 12\n",
      "105.1161897881733\n",
      "105.1161897881733 \n",
      "\n",
      "Interest frequention: 365\n",
      "105.12674964674473\n",
      "105.12674964674473 \n",
      "\n",
      "Interest frequention: 1000\n",
      "105.12697823318871\n",
      "105.12697823318871 \n",
      "\n"
     ]
    }
   ],
   "source": [
    "# define my own power function\n",
    "def x_to_the_n(function, power):\n",
    "    number = function\n",
    "    \n",
    "    for i in range(power - 1):\n",
    "        number *= function\n",
    "\n",
    "    return(number)\n",
    "\n",
    "def interest(a, r, n):\n",
    "    return a * (1 + (r / n))**n\n",
    "\n",
    "# define interest function\n",
    "## TODO: do this without the pow (= same as **) function\n",
    "def interest_a(a, r, n):\n",
    "    function = 1 + (r / n)\n",
    "    power = n\n",
    "    number = x_to_the_n(function, power)\n",
    "    \n",
    "    return a * number\n",
    "\n",
    "initial_investment = 100\n",
    "interest_rate = 0.05\n",
    "frequention = [1, 4, 12, 365, 1000]\n",
    "\n",
    "for n in frequention:\n",
    "    print(\"Interest frequention:\", n)\n",
    "    end_investment = interest(initial_investment, interest_rate, n)\n",
    "    print(end_investment)\n",
    "    end_invesment = interest_a(initial_investment, interest_rate, n)\n",
    "    print(end_investment, \"\\n\")"
   ]
  },
  {
   "cell_type": "markdown",
   "metadata": {},
   "source": [
    "## (b)\n",
    "We can rewrite $f$ as $f = a \\exp(n \\log(1 + r/n))$. Using this formula, do the same as in (a)."
   ]
  },
  {
   "cell_type": "code",
   "execution_count": 18,
   "metadata": {},
   "outputs": [
    {
     "name": "stdout",
     "output_type": "stream",
     "text": [
      "105.0\n",
      "105.09453369140623\n",
      "105.1161897881733\n",
      "105.12674964674473\n",
      "105.12697823318871\n"
     ]
    }
   ],
   "source": [
    "# define the new interest function\n",
    "def interest_b(a, r, n):\n",
    "    return a * np.exp(n * np.log(1 + (r / n)))\n",
    "                    \n",
    "# compute new values\n",
    "for n in frequention:\n",
    "    end_investment = interest_b(initial_investment, interest_rate, n)\n",
    "    print(end_investment)"
   ]
  },
  {
   "cell_type": "markdown",
   "metadata": {},
   "source": [
    "## (c)\n",
    "Can you find a value of $n$ such that the formula of (a) becomes unstable? Explain this phenomenon in words. "
   ]
  },
  {
   "cell_type": "markdown",
   "metadata": {},
   "source": [
    "For values of $n$ that aren't integers, the self-made pow function doesn't work. _I don't know if this is what they mean_"
   ]
  }
 ],
 "metadata": {
  "kernelspec": {
   "display_name": "Python 3",
   "language": "python",
   "name": "python3"
  },
  "language_info": {
   "codemirror_mode": {
    "name": "ipython",
    "version": 3
   },
   "file_extension": ".py",
   "mimetype": "text/x-python",
   "name": "python",
   "nbconvert_exporter": "python",
   "pygments_lexer": "ipython3",
   "version": "3.7.0"
  }
 },
 "nbformat": 4,
 "nbformat_minor": 2
}
