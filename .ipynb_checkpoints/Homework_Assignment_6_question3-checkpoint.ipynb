{
 "cells": [
  {
   "cell_type": "markdown",
   "metadata": {},
   "source": [
    "Please **submit this Jupyter notebook through Canvas** no later than **Monday November 5 12:59**, before the start of the lecture.\n",
    "\n",
    "Homework is in **groups of two**, and you are expected to hand in original work. Work that is copied from another group will not be accepted."
   ]
  },
  {
   "cell_type": "markdown",
   "metadata": {},
   "source": [
    "# Exercise 0\n",
    "Write down the names + student ID of the people in your group."
   ]
  },
  {
   "cell_type": "markdown",
   "metadata": {},
   "source": [
    "**Jordan Earle** (12297127)\n",
    "\n",
    "**Natasja Wezel** (11027649)"
   ]
  },
  {
   "cell_type": "markdown",
   "metadata": {},
   "source": [
    "-----\n",
    "# Exercise 1\n",
    "Let $P_k$ be the $k$th _Legendre polynomial_ (see paragraph 7.3.4) on $[-1, 1]$.\n",
    "\n",
    "We know that $P_0(x) = 1$, $P_1(x) = x$, and that $P_k$ satisfy the recurrence relation \n",
    "\n",
    "$$k P_k(x) =x (2k-1)  P_{k-1}(x) - (k-1) P_{k-2}(x).$$\n",
    "\n",
    "We will use [_induction_](https://en.wikipedia.org/wiki/Mathematical_induction) to show that the derivatives of the Legendre polynomials satisfy\n",
    "\n",
    "$$P_k'(1) = k(k+1)/2.$$"
   ]
  },
  {
   "cell_type": "markdown",
   "metadata": {},
   "source": [
    "## (a) Base case\n",
    "Show that $P_0'(1) = 0$ and $P_1'(1) = 1$."
   ]
  },
  {
   "cell_type": "markdown",
   "metadata": {},
   "source": []
  },
  {
   "cell_type": "markdown",
   "metadata": {},
   "source": [
    "## (b)  Induction Step\n",
    "Let $k \\geq 2$. Use the recurrence relation to show that $P_k'(1) = k(k+1)/2$."
   ]
  },
  {
   "cell_type": "markdown",
   "metadata": {},
   "source": []
  },
  {
   "cell_type": "markdown",
   "metadata": {},
   "source": [
    "----------------\n",
    "\n",
    "# Exercise 2\n",
    "\n",
    "A bacterial population $P$ grows according to the goemetric progression\n",
    "\n",
    "$$P_t = rP_{t-1}$$\n",
    "\n",
    "Where r is the growth rate. The following population counts $P_1 ,\\ldots, P_8$ (in billions) are observed:"
   ]
  },
  {
   "cell_type": "code",
   "execution_count": 4,
   "metadata": {},
   "outputs": [
    {
     "data": {
      "text/plain": [
       "<matplotlib.collections.PathCollection at 0x29597ea6208>"
      ]
     },
     "execution_count": 4,
     "metadata": {},
     "output_type": "execute_result"
    },
    {
     "data": {
      "image/png": "[encoded data removed]",
      "text/plain": [
       "<Figure size 432x288 with 1 Axes>"
      ]
     },
     "metadata": {
      "needs_background": "light"
     },
     "output_type": "display_data"
    }
   ],
   "source": [
    "import matplotlib.pyplot as plt\n",
    "\n",
    "data = [0.19, 0.36, 0.69, 1.3, 2.5, 4.7, 8.5, 14]\n",
    "\n",
    "plt.scatter(range(1,9), data)"
   ]
  },
  {
   "cell_type": "markdown",
   "metadata": {},
   "source": [
    "# (a)\n",
    "Read chapter 6.6 on Nonlinear Least squares. Use the Gauss-Newton Method to fit the model function $f(t, x_1, x_2) = x_1\\!\\cdot x_2^t$ to the data. Find estimates for the initial population $P_0=x_1$ and the growth rate $r=x_2$."
   ]
  },
  {
   "cell_type": "code",
   "execution_count": null,
   "metadata": {},
   "outputs": [],
   "source": []
  },
  {
   "cell_type": "markdown",
   "metadata": {},
   "source": [
    "# (b)\n",
    "By using logarithms to transform the equations, a fit to these data can also be done by linear least squares. Perform such a linear least squares fit to obtain estimates for $P_0$ and $r$, and compare your results with those for the nonlinear fit. Put the corresponding functions in a picture together with the data points and briefly discuss the results."
   ]
  },
  {
   "cell_type": "code",
   "execution_count": null,
   "metadata": {},
   "outputs": [],
   "source": []
  },
  {
   "cell_type": "markdown",
   "metadata": {},
   "source": [
    "----------------------\n",
    "# Exercise 3\n",
    "\n"
   ]
  },
  {
   "cell_type": "markdown",
   "metadata": {},
   "source": [
    "Runge's function is given by\n",
    "\n",
    "$$ f(t) = 1/(1+25t^2).$$"
   ]
  },
  {
   "cell_type": "markdown",
   "metadata": {},
   "source": [
    "# (a)\n",
    "Interpolate Runge's function on $[-1,1]$ by a polynomial $p_k$ of degree $k$ for $k = 5,10,15$. Use equally spaced interpolation points. Draw your interpolating polynomials together with $f$."
   ]
  },
  {
   "cell_type": "code",
   "execution_count": null,
   "metadata": {},
   "outputs": [],
   "source": [
    "import numpy as np"
   ]
  },
  {
   "cell_type": "code",
   "execution_count": 124,
   "metadata": {},
   "outputs": [],
   "source": [
    "def polynomial_5(x, c):\n",
    "    y = c[5] * x**5 + c[3] * x**3 + c[2] * x**2 + c[1] * x + c[0]\n",
    "    \n",
    "    return y\n",
    "\n",
    "def polynomial_10(x, c):\n",
    "    y = c[10] * x**10 + c[9] * x**9 + c[8] * x**8 + c[7] * x**7 + c[6] * x**6 + c[5] * x**5 + c[4] * x**4 + c[3] * x**3 + c[2] * x**2 + c[1] * x + c[0]\n",
    "    \n",
    "    return y\n",
    "\n",
    "def polynomial_15(x, c):\n",
    "    y = c[15] * x**15 + c[14] * x**14 + c[13] * x**13 + c[12] * x**12 + c[11] * x**11 + c[10] * x**10 + c[9] * x**9 + c[8] * x**8 +\\\n",
    "    c[7] * x**7 + c[6] * x**6 + c[5] * x**5 + c[4] * x**4 + c[3] * x**3 + c[2] * x**2 + c[1] * x + c[0]\n",
    "    \n",
    "    return y\n",
    "\n",
    "def runge_function(t):\n",
    "    return 1 / (1 + 25 * t**2)"
   ]
  },
  {
   "cell_type": "code",
   "execution_count": 135,
   "metadata": {
    "scrolled": false
   },
   "outputs": [
    {
     "name": "stdout",
     "output_type": "stream",
     "text": [
      "[[1.00000000e+00 1.00000000e+00 1.00000000e+00 1.00000000e+00\n",
      "  1.00000000e+00 1.00000000e+00]\n",
      " [1.00000000e+00 5.00000000e-01 2.50000000e-01 1.25000000e-01\n",
      "  6.25000000e-02 3.12500000e-02]\n",
      " [1.00000000e+00 2.00000000e-01 4.00000000e-02 8.00000000e-03\n",
      "  1.60000000e-03 3.20000000e-04]\n",
      " [1.00000000e+00 1.00000000e-01 1.00000000e-02 1.00000000e-03\n",
      "  1.00000000e-04 1.00000000e-05]\n",
      " [1.00000000e+00 5.88235294e-02 3.46020761e-03 2.03541624e-04\n",
      "  1.19730367e-05 7.04296278e-07]\n",
      " [1.00000000e+00 3.84615385e-02 1.47928994e-03 5.68957670e-05\n",
      "  2.18829873e-06 8.41653357e-08]] [1.         0.5        0.2        0.1        0.05882353 0.03846154]\n",
      "[-8.88178420e-16  1.00000000e+00 -4.90874246e-13  2.34750834e-12\n",
      " -4.15288300e-12  2.25889034e-12]\n",
      "[[1.00000000e+00 1.00000000e+00 1.00000000e+00 1.00000000e+00\n",
      "  1.00000000e+00 1.00000000e+00 1.00000000e+00 1.00000000e+00\n",
      "  1.00000000e+00 1.00000000e+00 1.00000000e+00]\n",
      " [1.00000000e+00 8.00000000e-01 6.40000000e-01 5.12000000e-01\n",
      "  4.09600000e-01 3.27680000e-01 2.62144000e-01 2.09715200e-01\n",
      "  1.67772160e-01 1.34217728e-01 1.07374182e-01]\n",
      " [1.00000000e+00 5.00000000e-01 2.50000000e-01 1.25000000e-01\n",
      "  6.25000000e-02 3.12500000e-02 1.56250000e-02 7.81250000e-03\n",
      "  3.90625000e-03 1.95312500e-03 9.76562500e-04]\n",
      " [1.00000000e+00 3.07692308e-01 9.46745562e-02 2.91306327e-02\n",
      "  8.96327159e-03 2.75792972e-03 8.48593760e-04 2.61105772e-04\n",
      "  8.03402377e-05 2.47200731e-05 7.60617635e-06]\n",
      " [1.00000000e+00 2.00000000e-01 4.00000000e-02 8.00000000e-03\n",
      "  1.60000000e-03 3.20000000e-04 6.40000000e-05 1.28000000e-05\n",
      "  2.56000000e-06 5.12000000e-07 1.02400000e-07]\n",
      " [1.00000000e+00 1.37931034e-01 1.90249703e-02 2.62413383e-03\n",
      "  3.61949494e-04 4.99240681e-05 6.88607836e-06 9.49803912e-07\n",
      "  1.31007436e-07 1.80699912e-08 2.49241258e-09]\n",
      " [1.00000000e+00 1.00000000e-01 1.00000000e-02 1.00000000e-03\n",
      "  1.00000000e-04 1.00000000e-05 1.00000000e-06 1.00000000e-07\n",
      "  1.00000000e-08 1.00000000e-09 1.00000000e-10]\n",
      " [1.00000000e+00 7.54716981e-02 5.69597722e-03 4.29885073e-04\n",
      "  3.24441564e-05 2.44861558e-06 1.84801176e-07 1.39472586e-08\n",
      "  1.05262329e-09 7.94432670e-11 5.99571826e-12]\n",
      " [1.00000000e+00 5.88235294e-02 3.46020761e-03 2.03541624e-04\n",
      "  1.19730367e-05 7.04296278e-07 4.14291928e-08 2.43701134e-09\n",
      "  1.43353608e-10 8.43256520e-12 4.96033247e-13]\n",
      " [1.00000000e+00 4.70588235e-02 2.21453287e-03 1.04213312e-04\n",
      "  4.90415584e-06 2.30783804e-07 1.08604143e-08 5.11078321e-10\n",
      "  2.40507445e-11 1.13179974e-12 5.32611643e-14]\n",
      " [1.00000000e+00 3.84615385e-02 1.47928994e-03 5.68957670e-05\n",
      "  2.18829873e-06 8.41653357e-08 3.23712830e-09 1.24504935e-10\n",
      "  4.78865133e-12 1.84178897e-13 7.08380374e-15]] [1.         0.8        0.5        0.30769231 0.2        0.13793103\n",
      " 0.1        0.0754717  0.05882353 0.04705882 0.03846154]\n",
      "[ 3.33066907e-16  1.00000000e+00  1.04733668e-11 -2.76063320e-10\n",
      "  3.77152487e-09 -2.93834789e-08  1.35088369e-07 -3.65593082e-07\n",
      "  5.61303077e-07 -4.45331343e-07  1.40410682e-07]\n"
     ]
    },
    {
     "data": {
      "text/plain": [
       "<matplotlib.legend.Legend at 0x295a35e1c18>"
      ]
     },
     "execution_count": 135,
     "metadata": {},
     "output_type": "execute_result"
    },
    {
     "data": {
      "image/png": "[encoded data removed]",
      "text/plain": [
       "<Figure size 1080x720 with 1 Axes>"
      ]
     },
     "metadata": {
      "needs_background": "light"
     },
     "output_type": "display_data"
    }
   ],
   "source": [
    "# proper linspace\n",
    "x = np.linspace(-1, 1, 2000)\n",
    "\n",
    "y = []\n",
    "# generate some data points\n",
    "for point in x:\n",
    "    y.append(runge_function(point))\n",
    "plt.figure(figsize=(15,10))\n",
    "\n",
    "plt.plot(x,y, label=\"Runge function\")    \n",
    "\n",
    "k_list = [5, 10]\n",
    "\n",
    "for k in k_list:\n",
    "    # proper linspace\n",
    "    x = np.linspace(0, 1, k+1)\n",
    "\n",
    "    k_points = []\n",
    "    # generate some data points\n",
    "    for point in x:\n",
    "        k_points.append(runge_function(point))\n",
    "\n",
    "    k_points = np.array(k_points)    \n",
    "\n",
    "    # plot it to get an idea of the function\n",
    "    label = \"Data points for k: \" + str(k)\n",
    "    plt.scatter(x, k_points, label=label)\n",
    "\n",
    "    # so let's use y as datapoints for the polynomial estimation\n",
    "    # take regular monomials as basis\n",
    "    phi = np.ones((len(x), len(x)))\n",
    "    \n",
    "    # set up Vandermonde matrix for basis function\n",
    "    for i in range(0, len(x)):\n",
    "        for j in range(0, len(x)):\n",
    "            phi[i][j] = k_points[i]**j\n",
    "            \n",
    "    print(phi, k_points)\n",
    "    \n",
    "    # calculate coefficients\n",
    "    coefficients = np.linalg.solve(phi, k_points)\n",
    "    print(coefficients)\n",
    "    \n",
    "    # plot \n",
    "    time_steps = np.linspace(-1, 1, 200000)\n",
    "\n",
    "    values = []\n",
    "\n",
    "    for t in time_steps:\n",
    "        if k == 5:\n",
    "            values.append(polynomial_5(t,coefficients))\n",
    "        elif k == 10:\n",
    "            values.append(polynomial_10(t,coefficients))\n",
    "        elif k == 15:\n",
    "            values.append(polynomial_15(t,coefficients))\n",
    "    \n",
    "    label = \"Polynomial for k: \" + str(k)\n",
    "    plt.plot(time_steps,values, label=label)    \n",
    "\n",
    "plt.legend()"
   ]
  },
  {
   "cell_type": "markdown",
   "metadata": {},
   "source": [
    "# (b)\n",
    "Repeat (a) to find polynomials $q_k$. This time use the Chebyshev points as interpolation points. They are given by\n",
    "\n",
    "$$t_i = \\cos \\left( \\frac{(2i-1)\\pi}{2k+2} \\right),\\, \\,i = 1,\\ldots,k+1.$$"
   ]
  },
  {
   "cell_type": "code",
   "execution_count": null,
   "metadata": {},
   "outputs": [],
   "source": []
  },
  {
   "cell_type": "markdown",
   "metadata": {},
   "source": [
    "# (c)\n",
    "Verify numerically that the maximum of the difference of $f$ and $q_k$ in the interval $[-1,1]$ decreases with increasing $k$ by trying various values of $k$."
   ]
  },
  {
   "cell_type": "code",
   "execution_count": null,
   "metadata": {},
   "outputs": [],
   "source": []
  }
 ],
 "metadata": {
  "kernelspec": {
   "display_name": "Python 3",
   "language": "python",
   "name": "python3"
  },
  "language_info": {
   "codemirror_mode": {
    "name": "ipython",
    "version": 3
   },
   "file_extension": ".py",
   "mimetype": "text/x-python",
   "name": "python",
   "nbconvert_exporter": "python",
   "pygments_lexer": "ipython3",
   "version": "3.7.0"
  }
 },
 "nbformat": 4,
 "nbformat_minor": 2
}
