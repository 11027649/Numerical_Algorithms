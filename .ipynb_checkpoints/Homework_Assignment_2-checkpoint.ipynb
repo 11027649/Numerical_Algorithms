{
 "cells": [
  {
   "cell_type": "markdown",
   "metadata": {},
   "source": [
    "Please **submit this Jupyter notebook through Canvas** no later than **Monday November 12, 12:59**, before the start of the lecture.\n",
    "\n",
    "Homework is in **groups of two**, and you are expected to hand in original work. Work that is copied from another group will not be accepted."
   ]
  },
  {
   "cell_type": "markdown",
   "metadata": {},
   "source": [
    "# Exercise 0\n",
    "Write down the names + student ID of the people in your group."
   ]
  },
  {
   "cell_type": "markdown",
   "metadata": {},
   "source": [
    "**Jordan Earle** (12297127)\n",
    "\n",
    "**Natasja Wezel** (11027649)"
   ]
  },
  {
   "cell_type": "markdown",
   "metadata": {},
   "source": [
    "-----\n",
    "# Exercise 1"
   ]
  },
  {
   "cell_type": "markdown",
   "metadata": {},
   "source": [
    "## (a)\n",
    "Let $A$ be the matrix $\\begin{bmatrix} 1 & -1 & \\alpha \\\\ 2 & 2 & 1 \\\\ 0 & \\alpha & -3/2 \\end{bmatrix}$. For which values of $\\alpha$ is $A$ singular?"
   ]
  },
  {
   "cell_type": "code",
   "execution_count": 2,
   "metadata": {},
   "outputs": [
    {
     "name": "stdout",
     "output_type": "stream",
     "text": [
      "The values where alpha is zero are: -1.50000000000000 2.00000000000000\n"
     ]
    }
   ],
   "source": [
    "import numpy as np\n",
    "import scipy as sp\n",
    "from scipy import linalg as la\n",
    "from sympy import *\n",
    "from sympy import Matrix\n",
    "\n",
    "\n",
    "x = Symbol('x')\n",
    "\n",
    "matA = Matrix([[1, -1, x], [2, 2, 1], [0, x, -3/2]])\n",
    "\n",
    "equation = matA.det()\n",
    "solutions = solve(equation)\n",
    "\n",
    "print(\"The values where alpha is zero are:\", solutions[0],solutions[1])"
   ]
  },
  {
   "cell_type": "markdown",
   "metadata": {},
   "source": [
    "## (b)\n",
    "Consider the following linear system of equations:\n",
    "$$\n",
    "\\begin{align*}\n",
    "2x + y + z & = 3 \\\\\n",
    "2x - y + 3z &= 5 \\\\\n",
    "-2x + \\alpha y + 3z &= 1.\n",
    "\\end{align*}\n",
    "$$\n",
    "For what values of $\\alpha$ does this system have an infinite number of solutions?"
   ]
  },
  {
   "cell_type": "code",
   "execution_count": 9,
   "metadata": {},
   "outputs": [
    {
     "name": "stdout",
     "output_type": "stream",
     "text": [
      "The system becomes a singular set of equations when the determinant of the matrix becomes 0.  Solving for when the determinant is zero, the value where alpha causes the system to be singular and therefore infinitly many solutions are:  -5\n"
     ]
    }
   ],
   "source": [
    "a = Symbol('a')\n",
    "\n",
    "matB = Matrix([[2, 1, 1], [2, -1, 3], [-2, a, 3]])\n",
    "\n",
    "#print(matB.det())\n",
    "equation = matB.det()\n",
    "solutions = solve(equation)\n",
    "\n",
    "print(\"The system becomes a singular set of equations when the determinant of the matrix becomes 0.  Solving for when the determinant is zero, the value where alpha causes the system to be singular and therefore infinitly many solutions are: \", solutions[0])"
   ]
  },
  {
   "cell_type": "markdown",
   "metadata": {},
   "source": [
    "## (c)\n",
    "Denote the columns of an $n \\times n$ matrix $A$ as $A_k$ for $k=1,\\ldots,n$. We define the function $||A||_* = \\max_k ||A_k||_2$. Show that $||A||_*$ is a norm, in that it satisfies the first three properties of a matrix norm (cf. §2.3.2)."
   ]
  },
  {
   "cell_type": "markdown",
   "metadata": {},
   "source": [
    "The first three properties of a matrix norm, where A and B are any matrices, are:\n",
    "1. Positivity:\n",
    "\n",
    "||A|| > 0 if A $\\neq$ $\\textbf{O}$\n",
    "\n",
    "2. Homogeneity:\n",
    "\n",
    "||$\\lambda \\textbf{A} $|| = $|\\lambda| \\cdot || \\textbf{A} ||$ for any scalar $\\lambda$\n",
    "\n",
    "3. Triangle inequality:\n",
    "\n",
    "$||\\textbf{A} + \\textbf{B}|| \\leq  || \\textbf{A} || + || \\textbf{B} ||$\n",
    "\n",
    "Note that the first two properties together imply that $||A|| = 0$ if, and only if, $A = 0$. Proofs:\n",
    "\n",
    "\n",
    "1.To prove that $||A||_*$ is positive, we start with $max_k ||A_k||_2$. Because this is a norm, it'll be bigger then 0 if $A_k$ is not zero.\n",
    "\n",
    "$$\n",
    "\\begin{align}\n",
    "    ||A||_* &= max_k||A_k||_2\\\\\n",
    "    \\exists k : || A_k ||_2 &> 0\\\\\n",
    "    max_k|| A_k ||_2 &> 0\\\\\n",
    "    A_k \\neq 0 &=> A \\neq 0\n",
    "\\end{align}\n",
    "$$\n",
    "\n",
    "2. To prove the second property, we start with $max_k ||\\lambda A_k||_2$. Because this is a norm, we can say that it is equal to $max_k (|\\lambda | \\cdot ||A_k||_2)$. Because $ |\\lambda|$ is a scalar, we can bring that to the front of the equation.\n",
    "\n",
    "$$\n",
    "\\begin{align*}\n",
    "    || \\lambda A ||_* &= max_k ||\\lambda A_k||_2\\\\\n",
    "                      &= max_k (|\\lambda | \\cdot ||A_k||_2)\\\\\n",
    "                      &= |\\lambda| \\cdot max_k ||A_k||_2\\\\\n",
    "                      &= |\\lambda| \\cdot ||A||_*\n",
    "\\end{align*}\n",
    "$$\n",
    "\n",
    "3. To prove the triangel inequality, we start with $max_k || A_k + B_k||_2$ and because this is a norm, we can say that it's smaller than or equal to $ max_k (||A_k||_2 + ||B_k||_2)$ as if the matrices are opposit sign, then the left will be less than the right.\n",
    "\n",
    "$$\n",
    "\\begin{align*}\n",
    "    || A + B ||_* = max_k || A_k + B_k||_2 &\\leq max_k (||A_k||_2 + ||B_k||_2) \\\\ \n",
    "                      &\\leq max_k ||A_k|| + max_l ||B_l|| \\\\\n",
    "                      &\\leq ||A||_* + ||B||_*\n",
    "\\end{align*}\n",
    "$$\n",
    " "
   ]
  },
  {
   "cell_type": "markdown",
   "metadata": {},
   "source": [
    "----\n",
    "# Exercise 2\n",
    "For solving linear systems such as $Ax = b$, it is unnecessary (and often unstable) to compute the inverse $A^{-1}$. Nonetheless, there can be situations where it is useful to compute $A^{-1}$ explicitly. One way to do so is by using the LU-decomposition of $A$."
   ]
  },
  {
   "cell_type": "markdown",
   "metadata": {},
   "source": [
    "## (a)\n",
    "Write an algorithm to compute $A^{-1}$ for a non-singular matrix $A$ using its LU-decomposition. You can use `scipy.linalg.lu` (which returns an LU-decomposition with _partial pivoting_, i.e., with a permutation matrix $P$) and the other `scipy.linalg.lu_*` functions, but not `scipy.linalg.inv` (or other methods for computing matrix inverses directly)."
   ]
  },
  {
   "cell_type": "code",
   "execution_count": 7,
   "metadata": {},
   "outputs": [
    {
     "name": "stdout",
     "output_type": "stream",
     "text": [
      "[[-1.66533454e-16 -1.11022302e-16  1.11022302e-16]\n",
      " [ 0.00000000e+00  5.55111512e-17  0.00000000e+00]\n",
      " [ 0.00000000e+00  6.07153217e-18 -1.38777878e-17]]\n",
      "[[ 1.00000000e+00 -1.55431223e-15 -2.22044605e-15]\n",
      " [-1.11022302e-16  1.00000000e+00  1.11022302e-15]\n",
      " [-6.93889390e-17 -1.24900090e-16  1.00000000e+00]]\n"
     ]
    }
   ],
   "source": [
    "#Remeber that when accessing a matrix, Matrix[row][column] & Matrix[m][n]\n",
    "\n",
    "import numpy as np\n",
    "\n",
    "def solveInverse(matA):\n",
    "\n",
    "    p, l, u = sp.linalg.lu(matA)\n",
    "    shapeA = matA.shape\n",
    "    validity = True\n",
    "\n",
    "    for i in range(0,shapeA[0]):\n",
    "        if l[i][i] == 0 or u[i][i] == 0:\n",
    "            print(\"Matrix is not invertable!\")\n",
    "            return False, np.empty(shape = s)\n",
    "        \n",
    "    b = p.transpose().dot(np.eye(shapeA[0], dtype=float))\n",
    "    c = forwardSublower(shapeA, l, b)\n",
    "    inverted = backwardSubsolver(shapeA, u, c)\n",
    "    \n",
    "    return True, inverted\n",
    "\n",
    "def forwardSublower(s,lw,solM):\n",
    "    tmpMat = np.empty(shape = s)\n",
    "\n",
    "    # cycle through columns and rows\n",
    "    for n in range(0, s[1]): \n",
    "        for m in range(0, s[0]):\n",
    "            \n",
    "            # find current X value and subtract that value from all other colutions\n",
    "            tmpMat[m][n] = (solM[m][n]/lw[m][m])\n",
    "            for i in range(m+1, s[1]):\n",
    "                solM[i][n] = solM[i][n] - (lw[i][m]*tmpMat[m][n])\n",
    "    \n",
    "    return tmpMat\n",
    "\n",
    "def backwardSubsolver(s, up, solM):\n",
    "    tmpMat = np.empty(shape = s)\n",
    "    \n",
    "    # iterate backwards over columns and rows\n",
    "    for n in range(s[0]-1, -1, -1):\n",
    "        for m in range(s[1]-1, -1, -1):\n",
    "            \n",
    "            # find current X value and subtract that from all other colutions\n",
    "            tmpMat[m][n] = (solM[m][n]/up[m][m])\n",
    "            for i in range(m-1, -1, -1):\n",
    "                 solM[i][n] = solM[i][n] - (up[i][m]*tmpMat[m][n])\n",
    "                    \n",
    "    return tmpMat\n",
    "\n",
    "# here is an example of the inverse function working\n",
    "MatA = np.array([[5., 7., 12.], [13.,14.,2.], [11., 15., 10]])\n",
    "\n",
    "check, inverted = solveInverse(MatA)\n",
    "if check:\n",
    "   print(inverted-sp.linalg.inv(MatA))\n",
    "   print(inverted.dot(MatA))"
   ]
  },
  {
   "cell_type": "markdown",
   "metadata": {},
   "source": [
    "## (b)\n",
    "What is the computational complexity of your algorithm, given that the input matrix has size $n \\times n$?"
   ]
  },
  {
   "cell_type": "markdown",
   "metadata": {},
   "source": [
    "It will have a computational complexity of $n^{3}/3$"
   ]
  },
  {
   "cell_type": "markdown",
   "metadata": {},
   "source": [
    "## (c)\n",
    "Apply your Python code to compute the inverse of the Hilbert matrix $H_n$ for $n=1, \\ldots, 12$ (see https://en.wikipedia.org/wiki/Hilbert_matrix) -- you can use `scipy.linalg.hilbert`. This matrix is _very_ ill-conditioned, so computing its inverse is very hard for large $n$.\n",
    "\n",
    "Compare the inverse with the \"true\" inverse given by `scipy.linalg.invhilbert`. Output a (`plt.semilogy`) graph showing how the $\\infty$-norm of their difference progresses for $n$."
   ]
  },
  {
   "cell_type": "code",
   "execution_count": 5,
   "metadata": {},
   "outputs": [
    {
     "name": "stdout",
     "output_type": "stream",
     "text": [
      "At 1 the infinity norm is zero, which cannot be shown on the log scale, so 2-12 are shown\n"
     ]
    },
    {
     "data": {
      "image/png": "[encoded data removed]",
      "text/plain": [
       "<Figure size 432x288 with 1 Axes>"
      ]
     },
     "metadata": {},
     "output_type": "display_data"
    }
   ],
   "source": [
    "import scipy as sp\n",
    "from scipy import linalg as la\n",
    "import matplotlib.pyplot as plt\n",
    "\n",
    "normsArrayError = []\n",
    "normsArrayInverseActual = []\n",
    "normsArrayInverse = []\n",
    "normsArrayHilbert = []\n",
    "\n",
    "for n in range(1, 12):\n",
    "    # get the Hilbert matrix\n",
    "    Hn = la.hilbert(n)\n",
    "    normHilbert = np.linalg.norm(Hn, np.inf)\n",
    "    normsArrayHilbert.append(normHilbert)\n",
    "    \n",
    "    check, inverted = solveInverse(Hn)\n",
    "    normInverseF = np.linalg.norm(inverted, np.inf)\n",
    "    normsArrayInverse.append(normInverseF)\n",
    "    \n",
    "    # compare to the true inverse\n",
    "    true_inverse_Hn = la.invhilbert(n)\n",
    "    normTrueInverse = np.linalg.norm(true_inverse_Hn, np.inf)\n",
    "    normsArrayInverseActual.append(normTrueInverse)\n",
    "    \n",
    "    # so we do || true_inverse - own_inverse || infinity norm\n",
    "    error = true_inverse_Hn - inverted\n",
    "    infinNormerror = np.linalg.norm(error, np.inf)\n",
    "    normsArrayError.append(infinNormerror)\n",
    "    \n",
    "fig, ax = plt.subplots()\n",
    "plt.plot(range(2,12), normsArrayError[1:12])\n",
    "plt.scatter(range(1,12), normsArrayError)\n",
    "plt.title(\"Infinity Norm of the Difference Between the True Inverse and Inverse Function \\n\")\n",
    "\n",
    "ax.set_xlabel(\"Size of Hilbert matrix\")\n",
    "ax.set_ylabel(\"Infinity Norm\")\n",
    "ax.set_yscale('log')\n",
    "\n",
    "print(\"At 1 the infinity norm is zero, which cannot be shown on the log scale, so 2-12 are shown\")"
   ]
  },
  {
   "cell_type": "markdown",
   "metadata": {},
   "source": [
    "## (d)\n",
    "It is known that the $2$-condition number $cond_2(H_n)$ of the Hilbert matrix grows like $\\mathcal O\\left(\\frac{(1+\\sqrt{2})^{4n}}{\\sqrt{n}}\\right)$. Does the $\\infty$-condition number (defined in Example 2.5) of $H_n$ grow in a similar way?\n",
    "For the matrix inverse, try both your own matrix inversion routine, and `scipy.linalg.invhilbert`. Output a (`plt.semilogy`) graph showing your results."
   ]
  },
  {
   "cell_type": "code",
   "execution_count": 6,
   "metadata": {},
   "outputs": [
    {
     "data": {
      "text/plain": [
       "<matplotlib.legend.Legend at 0x7efc96cf1d68>"
      ]
     },
     "execution_count": 6,
     "metadata": {},
     "output_type": "execute_result"
    },
    {
     "data": {
      "text/plain": [
       "<Figure size 432x288 with 0 Axes>"
      ]
     },
     "metadata": {},
     "output_type": "display_data"
    },
    {
     "data": {
      "image/png": "[encoded data removed]",
      "text/plain": [
       "<Figure size 432x288 with 1 Axes>"
      ]
     },
     "metadata": {},
     "output_type": "display_data"
    },
    {
     "data": {
      "image/png": "[encoded data removed]",
      "text/plain": [
       "<Figure size 432x288 with 1 Axes>"
      ]
     },
     "metadata": {},
     "output_type": "display_data"
    }
   ],
   "source": [
    "import math\n",
    "normsIA = np.array(normsArrayInverseActual)\n",
    "normsIF = np.array(normsArrayInverse)\n",
    "normsH = np.array(normsArrayHilbert)\n",
    "\n",
    "condinfAct = normsH*normsIA\n",
    "condinfFun = normsH*normsIF\n",
    "cond2 = []\n",
    "for i in range(1,12):\n",
    "    cond2.append(((1+math.sqrt(2))**(4*i))/(math.sqrt(i)))\n",
    "\n",
    "plt.figure(0)\n",
    "fig, ax = plt.subplots()\n",
    "plt.semilogy(range(1,12), condinfAct, label = \"Actual Inverse Cond\")\n",
    "plt.semilogy(range(1,12), cond2, label = \"Order 2 Growth\")\n",
    "plt.title(\"Condition Number of the True Inverse and the Order 2 Growth Function \\n\")\n",
    "ax.set_xlabel(\"Size of Hilbert matrix\")\n",
    "ax.set_ylabel(\"Condition Number\")\n",
    "plt.legend()\n",
    "\n",
    "plt.figure(1)\n",
    "fig, ax = plt.subplots()\n",
    "\n",
    "plt.semilogy(range(1,12), condinfFun, label = \"Function Inverse Cond\")\n",
    "plt.semilogy(range(1,12), cond2, label = \"Order 2 Growth\")\n",
    "plt.title(\"Condition Number of the Inverse Function and the Order 2 Growth Function \\n\")\n",
    "ax.set_xlabel(\"Size of Hilbert matrix\")\n",
    "ax.set_ylabel(\"Condition Number\")\n",
    "plt.legend()"
   ]
  },
  {
   "cell_type": "markdown",
   "metadata": {},
   "source": [
    "The infinity condition number appears to grow in a similar manner to the 2nd order condition number.  The growth appears to diverge slightly at the end of the range, larger Hilbert functions would be required to observe if there is divergence at a later point.   "
   ]
  },
  {
   "cell_type": "code",
   "execution_count": null,
   "metadata": {},
   "outputs": [],
   "source": []
  }
 ],
 "metadata": {
  "kernelspec": {
   "display_name": "Python 3",
   "language": "python",
   "name": "python3"
  },
  "language_info": {
   "codemirror_mode": {
    "name": "ipython",
    "version": 3
   },
   "file_extension": ".py",
   "mimetype": "text/x-python",
   "name": "python",
   "nbconvert_exporter": "python",
   "pygments_lexer": "ipython3",
   "version": "3.6.6"
  }
 },
 "nbformat": 4,
 "nbformat_minor": 2
}
